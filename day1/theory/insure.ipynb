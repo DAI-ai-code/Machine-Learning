{
 "cells": [
  {
   "cell_type": "code",
   "execution_count": 78,
   "id": "fe304305",
   "metadata": {},
   "outputs": [],
   "source": [
    "import pandas as pd"
   ]
  },
  {
   "cell_type": "code",
   "execution_count": 79,
   "id": "f71eb07f",
   "metadata": {},
   "outputs": [
    {
     "data": {
      "text/plain": [
       "(10, 4)"
      ]
     },
     "execution_count": 79,
     "metadata": {},
     "output_type": "execute_result"
    }
   ],
   "source": [
    "insure = pd.read_csv('../../Datasets/Insure_auto.csv')\n",
    "X = insure[['Home','Automobile']]\n",
    "y = insure['Operating_Cost']\n",
    "\n",
    "insure.shape"
   ]
  },
  {
   "cell_type": "code",
   "execution_count": 80,
   "id": "a57358a5",
   "metadata": {},
   "outputs": [
    {
     "data": {
      "text/plain": [
       "(-10084.213130948774, array([167.32668857,  54.10529229]))"
      ]
     },
     "execution_count": 80,
     "metadata": {},
     "output_type": "execute_result"
    }
   ],
   "source": [
    "from sklearn.linear_model import LinearRegression\n",
    "lr = LinearRegression()\n",
    "lr.fit(X,y)\n",
    "lr.intercept_, lr.coef_"
   ]
  },
  {
   "cell_type": "code",
   "execution_count": 81,
   "id": "ba71b9c3",
   "metadata": {},
   "outputs": [],
   "source": [
    "X = insure[['Home']]\n",
    "from sklearn.preprocessing import PolynomialFeatures\n",
    "\n"
   ]
  },
  {
   "cell_type": "code",
   "execution_count": 82,
   "id": "43984664",
   "metadata": {},
   "outputs": [],
   "source": [
    "poly = PolynomialFeatures(degree=2, include_bias=False).set_output(transform='pandas')\n",
    "X = poly.fit_transform(X)"
   ]
  },
  {
   "cell_type": "code",
   "execution_count": 83,
   "id": "1de44c8f",
   "metadata": {},
   "outputs": [
    {
     "data": {
      "text/plain": [
       "(54381.71562081714, array([57.28485112,  0.15387525]))"
      ]
     },
     "execution_count": 83,
     "metadata": {},
     "output_type": "execute_result"
    }
   ],
   "source": [
    "lr = LinearRegression()\n",
    "lr.fit(X, y)\n",
    "lr.intercept_, lr.coef_"
   ]
  },
  {
   "cell_type": "markdown",
   "id": "83ac8ee2",
   "metadata": {},
   "source": [
    "eqn: y = 54381 + 57.28 * x + 0.15 * x^2"
   ]
  },
  {
   "cell_type": "code",
   "execution_count": 84,
   "id": "4cd42f96",
   "metadata": {},
   "outputs": [],
   "source": [
    "poly = PolynomialFeatures(degree=3, include_bias=False).set_output(transform='pandas')\n",
    "X = poly.fit_transform(X)"
   ]
  },
  {
   "cell_type": "code",
   "execution_count": 85,
   "id": "f8e327f7",
   "metadata": {},
   "outputs": [
    {
     "data": {
      "text/plain": [
       "(77534.61936542206,\n",
       " array([-1.19826869e-02, -1.78556307e+00, -1.78640466e+00,  1.39816717e-02,\n",
       "        -3.71271727e-05,  1.39816719e-02, -3.71271729e-05,  8.34998515e-08,\n",
       "        -3.37306485e-11]))"
      ]
     },
     "execution_count": 85,
     "metadata": {},
     "output_type": "execute_result"
    }
   ],
   "source": [
    "lr = LinearRegression()\n",
    "lr.fit(X, y)\n",
    "lr.intercept_, lr.coef_"
   ]
  },
  {
   "cell_type": "code",
   "execution_count": 86,
   "id": "89e37b71",
   "metadata": {},
   "outputs": [
    {
     "data": {
      "text/html": [
       "<div>\n",
       "<style scoped>\n",
       "    .dataframe tbody tr th:only-of-type {\n",
       "        vertical-align: middle;\n",
       "    }\n",
       "\n",
       "    .dataframe tbody tr th {\n",
       "        vertical-align: top;\n",
       "    }\n",
       "\n",
       "    .dataframe thead th {\n",
       "        text-align: right;\n",
       "    }\n",
       "</style>\n",
       "<table border=\"1\" class=\"dataframe\">\n",
       "  <thead>\n",
       "    <tr style=\"text-align: right;\">\n",
       "      <th></th>\n",
       "      <th>Home</th>\n",
       "      <th>Automobile</th>\n",
       "      <th>Home^2</th>\n",
       "      <th>Home Automobile</th>\n",
       "      <th>Automobile^2</th>\n",
       "    </tr>\n",
       "  </thead>\n",
       "  <tbody>\n",
       "    <tr>\n",
       "      <th>0</th>\n",
       "      <td>400.0</td>\n",
       "      <td>1200.0</td>\n",
       "      <td>160000.0</td>\n",
       "      <td>480000.0</td>\n",
       "      <td>1440000.0</td>\n",
       "    </tr>\n",
       "    <tr>\n",
       "      <th>1</th>\n",
       "      <td>350.0</td>\n",
       "      <td>360.0</td>\n",
       "      <td>122500.0</td>\n",
       "      <td>126000.0</td>\n",
       "      <td>129600.0</td>\n",
       "    </tr>\n",
       "    <tr>\n",
       "      <th>2</th>\n",
       "      <td>600.0</td>\n",
       "      <td>800.0</td>\n",
       "      <td>360000.0</td>\n",
       "      <td>480000.0</td>\n",
       "      <td>640000.0</td>\n",
       "    </tr>\n",
       "    <tr>\n",
       "      <th>3</th>\n",
       "      <td>800.0</td>\n",
       "      <td>1800.0</td>\n",
       "      <td>640000.0</td>\n",
       "      <td>1440000.0</td>\n",
       "      <td>3240000.0</td>\n",
       "    </tr>\n",
       "    <tr>\n",
       "      <th>4</th>\n",
       "      <td>900.0</td>\n",
       "      <td>1600.0</td>\n",
       "      <td>810000.0</td>\n",
       "      <td>1440000.0</td>\n",
       "      <td>2560000.0</td>\n",
       "    </tr>\n",
       "    <tr>\n",
       "      <th>5</th>\n",
       "      <td>200.0</td>\n",
       "      <td>1000.0</td>\n",
       "      <td>40000.0</td>\n",
       "      <td>200000.0</td>\n",
       "      <td>1000000.0</td>\n",
       "    </tr>\n",
       "    <tr>\n",
       "      <th>6</th>\n",
       "      <td>120.0</td>\n",
       "      <td>900.0</td>\n",
       "      <td>14400.0</td>\n",
       "      <td>108000.0</td>\n",
       "      <td>810000.0</td>\n",
       "    </tr>\n",
       "    <tr>\n",
       "      <th>7</th>\n",
       "      <td>340.0</td>\n",
       "      <td>1100.0</td>\n",
       "      <td>115600.0</td>\n",
       "      <td>374000.0</td>\n",
       "      <td>1210000.0</td>\n",
       "    </tr>\n",
       "    <tr>\n",
       "      <th>8</th>\n",
       "      <td>490.0</td>\n",
       "      <td>900.0</td>\n",
       "      <td>240100.0</td>\n",
       "      <td>441000.0</td>\n",
       "      <td>810000.0</td>\n",
       "    </tr>\n",
       "    <tr>\n",
       "      <th>9</th>\n",
       "      <td>700.0</td>\n",
       "      <td>800.0</td>\n",
       "      <td>490000.0</td>\n",
       "      <td>560000.0</td>\n",
       "      <td>640000.0</td>\n",
       "    </tr>\n",
       "  </tbody>\n",
       "</table>\n",
       "</div>"
      ],
      "text/plain": [
       "    Home  Automobile    Home^2  Home Automobile  Automobile^2\n",
       "0  400.0      1200.0  160000.0         480000.0     1440000.0\n",
       "1  350.0       360.0  122500.0         126000.0      129600.0\n",
       "2  600.0       800.0  360000.0         480000.0      640000.0\n",
       "3  800.0      1800.0  640000.0        1440000.0     3240000.0\n",
       "4  900.0      1600.0  810000.0        1440000.0     2560000.0\n",
       "5  200.0      1000.0   40000.0         200000.0     1000000.0\n",
       "6  120.0       900.0   14400.0         108000.0      810000.0\n",
       "7  340.0      1100.0  115600.0         374000.0     1210000.0\n",
       "8  490.0       900.0  240100.0         441000.0      810000.0\n",
       "9  700.0       800.0  490000.0         560000.0      640000.0"
      ]
     },
     "execution_count": 86,
     "metadata": {},
     "output_type": "execute_result"
    }
   ],
   "source": [
    "poly = PolynomialFeatures(degree=2, include_bias=False).set_output(transform='pandas')\n",
    "\n",
    "X = insure[['Home','Automobile']]\n",
    "y = insure['Operating_Cost']\n",
    "\n",
    "x_poly = poly.fit_transform(X)\n",
    "x_poly\n"
   ]
  },
  {
   "cell_type": "code",
   "execution_count": 87,
   "id": "65e1a5d5",
   "metadata": {},
   "outputs": [
    {
     "data": {
      "text/plain": [
       "[  Branch  Home  Automobile  Operating_Cost\n",
       " 8    B09   490         900          120000\n",
       " 0    B01   400        1200          124000\n",
       " 2    B03   600         800          136000\n",
       " 9    B10   700         800          144000\n",
       " 7    B08   340        1100          110000\n",
       " 6    B07   120         900           56000\n",
       " 4    B05   900        1600          230000,\n",
       "   Branch  Home  Automobile  Operating_Cost\n",
       " 5    B06   200        1000           75000\n",
       " 1    B02   350         360           71000\n",
       " 3    B04   800        1800          219000]"
      ]
     },
     "execution_count": 87,
     "metadata": {},
     "output_type": "execute_result"
    }
   ],
   "source": [
    "from sklearn.model_selection import train_test_split\n",
    "\n",
    "train_test_split(insure, test_size=0.3, random_state=25)"
   ]
  },
  {
   "cell_type": "code",
   "execution_count": 88,
   "id": "cb224567",
   "metadata": {},
   "outputs": [],
   "source": [
    "from sklearn.metrics import mean_absolute_error, mean_squared_error, root_mean_squared_error, r2_score"
   ]
  },
  {
   "cell_type": "code",
   "execution_count": 89,
   "id": "a1301c33",
   "metadata": {},
   "outputs": [],
   "source": [
    "X_train, X_test, y_train, y_test = train_test_split(insure[['Home', 'Automobile']], insure['Operating_Cost'],\n",
    "                                                     test_size=0.3, random_state=25)"
   ]
  },
  {
   "cell_type": "markdown",
   "id": "7045e94a",
   "metadata": {},
   "source": [
    "linear regression"
   ]
  },
  {
   "cell_type": "code",
   "execution_count": 90,
   "id": "9b0bc7cb",
   "metadata": {},
   "outputs": [],
   "source": [
    "lr = LinearRegression()\n",
    "lr.fit(X_train, y_train)\n",
    "y_pred = lr.predict(X_test)\n",
    "rmse = root_mean_squared_error(y_test, y_pred)\n",
    "r2 = r2_score(y_test, y_pred)"
   ]
  },
  {
   "cell_type": "code",
   "execution_count": 91,
   "id": "136e75a4",
   "metadata": {},
   "outputs": [
    {
     "data": {
      "text/plain": [
       "(6756.685258305517, 0.990367705337626)"
      ]
     },
     "execution_count": 91,
     "metadata": {},
     "output_type": "execute_result"
    }
   ],
   "source": [
    "rmse, r2"
   ]
  },
  {
   "cell_type": "markdown",
   "id": "eed7d30a",
   "metadata": {},
   "source": [
    "polynomial with degree 2"
   ]
  },
  {
   "cell_type": "code",
   "execution_count": 92,
   "id": "6651686d",
   "metadata": {},
   "outputs": [
    {
     "data": {
      "text/plain": [
       "(55741.86470206821, 0.34442049596368385)"
      ]
     },
     "execution_count": 92,
     "metadata": {},
     "output_type": "execute_result"
    }
   ],
   "source": [
    "poly = PolynomialFeatures(degree=2, include_bias=False)\n",
    "X_poly = poly.fit_transform(X)\n",
    "\n",
    "X_train, X_test, y_train, y_test = train_test_split(X_poly, y, test_size=0.3, random_state=25)\n",
    "lr = LinearRegression()\n",
    "lr.fit(X_train, y_train)\n",
    "y_pred = lr.predict(X_test)\n",
    "rmse = root_mean_squared_error(y_test, y_pred)\n",
    "r2 = r2_score(y_test, y_pred)\n",
    "rmse, r2"
   ]
  },
  {
   "cell_type": "markdown",
   "id": "eaaacf22",
   "metadata": {},
   "source": [
    "polynomial with degree 3"
   ]
  },
  {
   "cell_type": "code",
   "execution_count": 93,
   "id": "0fc85b49",
   "metadata": {},
   "outputs": [
    {
     "data": {
      "text/plain": [
       "(424380.1084439496, -36.999022130206434)"
      ]
     },
     "execution_count": 93,
     "metadata": {},
     "output_type": "execute_result"
    }
   ],
   "source": [
    "poly = PolynomialFeatures(degree=3, include_bias=False)\n",
    "X_poly = poly.fit_transform(X)\n",
    "\n",
    "X_train, X_test, y_train, y_test = train_test_split(X_poly, y, test_size=0.3, random_state=25)\n",
    "lr = LinearRegression()\n",
    "lr.fit(X_train, y_train)\n",
    "y_pred = lr.predict(X_test)\n",
    "rmse = root_mean_squared_error(y_test, y_pred)\n",
    "r2 = r2_score(y_test, y_pred)\n",
    "rmse, r2\n"
   ]
  },
  {
   "cell_type": "code",
   "execution_count": null,
   "id": "d11c4863",
   "metadata": {},
   "outputs": [],
   "source": []
  }
 ],
 "metadata": {
  "kernelspec": {
   "display_name": "base",
   "language": "python",
   "name": "python3"
  },
  "language_info": {
   "codemirror_mode": {
    "name": "ipython",
    "version": 3
   },
   "file_extension": ".py",
   "mimetype": "text/x-python",
   "name": "python",
   "nbconvert_exporter": "python",
   "pygments_lexer": "ipython3",
   "version": "3.12.7"
  }
 },
 "nbformat": 4,
 "nbformat_minor": 5
}
