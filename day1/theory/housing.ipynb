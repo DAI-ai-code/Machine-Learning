{
 "cells": [
  {
   "cell_type": "code",
   "execution_count": 23,
   "id": "3c690304",
   "metadata": {},
   "outputs": [],
   "source": [
    "import pandas as pd\n",
    "import numpy as np\n",
    "from sklearn.model_selection import train_test_split\n",
    "from sklearn.linear_model import LinearRegression\n",
    "from sklearn.metrics import mean_absolute_error, r2_score\n",
    "from sklearn.preprocessing import PolynomialFeatures"
   ]
  },
  {
   "cell_type": "code",
   "execution_count": 24,
   "id": "bfebc2cc",
   "metadata": {},
   "outputs": [],
   "source": [
    "housing = pd.read_csv('../../Datasets/Housing.csv')"
   ]
  },
  {
   "cell_type": "code",
   "execution_count": 25,
   "id": "598bf43d",
   "metadata": {},
   "outputs": [],
   "source": [
    "dummy_housing = pd.get_dummies(housing, drop_first=True)\n",
    "X = dummy_housing.drop('price', axis=1)\n",
    "y = dummy_housing['price']"
   ]
  },
  {
   "cell_type": "markdown",
   "id": "fc58d582",
   "metadata": {},
   "source": [
    "linear regression"
   ]
  },
  {
   "cell_type": "code",
   "execution_count": 26,
   "id": "52a834b3",
   "metadata": {},
   "outputs": [],
   "source": [
    "X_train, X_test, y_train, y_test = train_test_split(X, y, test_size=0.3, random_state=25)\n",
    "lr = LinearRegression()\n",
    "lr.fit(X_train, y_train)\n",
    "y_pred = lr.predict(X_test)\n",
    "\n",
    "mae = mean_absolute_error(y_test, y_pred)\n",
    "r2 = r2_score(y_test, y_pred)"
   ]
  },
  {
   "cell_type": "code",
   "execution_count": 27,
   "id": "ee40a092",
   "metadata": {},
   "outputs": [
    {
     "data": {
      "text/plain": [
       "(11600.941705536447, 0.6355877562459126)"
      ]
     },
     "execution_count": 27,
     "metadata": {},
     "output_type": "execute_result"
    }
   ],
   "source": [
    "mae, r2"
   ]
  },
  {
   "cell_type": "markdown",
   "id": "8684ebe9",
   "metadata": {},
   "source": [
    "degree 2 polynomial"
   ]
  },
  {
   "cell_type": "code",
   "execution_count": 28,
   "id": "a64e76b9",
   "metadata": {},
   "outputs": [],
   "source": [
    "poly = PolynomialFeatures(degree=2, include_bias=False)\n",
    "X_poly = poly.fit_transform(X)\n",
    "X_train, X_test, y_train, y_test = train_test_split(X_poly, y, test_size=0.3, random_state=25)\n",
    "lr = LinearRegression()\n",
    "lr.fit(X_train, y_train)\n",
    "y_pred = lr.predict(X_test)\n",
    "\n",
    "mae = mean_absolute_error(y_test, y_pred)\n",
    "r2 = r2_score(y_test, y_pred)"
   ]
  },
  {
   "cell_type": "code",
   "execution_count": 29,
   "id": "7297789d",
   "metadata": {},
   "outputs": [
    {
     "data": {
      "text/plain": [
       "(12967.811718395229, 0.5240157420156895)"
      ]
     },
     "execution_count": 29,
     "metadata": {},
     "output_type": "execute_result"
    }
   ],
   "source": [
    "mae, r2"
   ]
  },
  {
   "cell_type": "markdown",
   "id": "170df947",
   "metadata": {},
   "source": [
    "degree 3 polynomial"
   ]
  },
  {
   "cell_type": "code",
   "execution_count": 30,
   "id": "21d2d1ad",
   "metadata": {},
   "outputs": [],
   "source": [
    "poly = PolynomialFeatures(degree=3, include_bias=False)\n",
    "X_poly = poly.fit_transform(X)\n",
    "X_train, X_test, y_train, y_test = train_test_split(X_poly, y, test_size=0.3, random_state=25)\n",
    "lr = LinearRegression()\n",
    "lr.fit(X_train, y_train)\n",
    "y_pred = lr.predict(X_test)\n",
    "\n",
    "mae = mean_absolute_error(y_test, y_pred)\n",
    "r2 = r2_score(y_test, y_pred)"
   ]
  },
  {
   "cell_type": "code",
   "execution_count": 31,
   "id": "80119f33",
   "metadata": {},
   "outputs": [
    {
     "data": {
      "text/plain": [
       "(32579.544833964213, -3.2483201963096136)"
      ]
     },
     "execution_count": 31,
     "metadata": {},
     "output_type": "execute_result"
    }
   ],
   "source": [
    "mae, r2"
   ]
  },
  {
   "cell_type": "code",
   "execution_count": null,
   "id": "d9b32a4a",
   "metadata": {},
   "outputs": [],
   "source": []
  }
 ],
 "metadata": {
  "kernelspec": {
   "display_name": "base",
   "language": "python",
   "name": "python3"
  },
  "language_info": {
   "codemirror_mode": {
    "name": "ipython",
    "version": 3
   },
   "file_extension": ".py",
   "mimetype": "text/x-python",
   "name": "python",
   "nbconvert_exporter": "python",
   "pygments_lexer": "ipython3",
   "version": "3.12.7"
  }
 },
 "nbformat": 4,
 "nbformat_minor": 5
}
