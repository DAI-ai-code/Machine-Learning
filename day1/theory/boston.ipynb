{
 "cells": [
  {
   "cell_type": "code",
   "execution_count": 15,
   "id": "31669bd0",
   "metadata": {},
   "outputs": [],
   "source": [
    "import pandas as pd\n",
    "from sklearn.linear_model import LinearRegression\n",
    "from sklearn.model_selection import train_test_split\n",
    "from sklearn.metrics import mean_absolute_error, mean_squared_error, root_mean_squared_error, r2_score\n",
    "from sklearn.preprocessing import PolynomialFeatures\n"
   ]
  },
  {
   "cell_type": "code",
   "execution_count": 9,
   "id": "f60ab23b",
   "metadata": {},
   "outputs": [
    {
     "data": {
      "text/plain": [
       "0      24.0\n",
       "1      21.6\n",
       "2      34.7\n",
       "3      33.4\n",
       "4      36.2\n",
       "       ... \n",
       "501    22.4\n",
       "502    20.6\n",
       "503    23.9\n",
       "504    22.0\n",
       "505    11.9\n",
       "Name: medv, Length: 506, dtype: float64"
      ]
     },
     "execution_count": 9,
     "metadata": {},
     "output_type": "execute_result"
    }
   ],
   "source": [
    "boston = pd.read_csv('../../Datasets/Boston.csv')\n",
    "X = boston.drop('medv', axis=1)\n",
    "y = boston['medv']\n",
    "y"
   ]
  },
  {
   "cell_type": "markdown",
   "id": "d88308f0",
   "metadata": {},
   "source": [
    "# DO LINEAR REGRESSION, DEGREE 2 AND 3 POLYNOMIAL\n"
   ]
  },
  {
   "cell_type": "code",
   "execution_count": 20,
   "id": "17e6fa8c",
   "metadata": {},
   "outputs": [],
   "source": [
    "X_train, X_test, y_train, y_test = train_test_split(X,y,test_size=0.3,random_state=25)"
   ]
  },
  {
   "cell_type": "markdown",
   "id": "2c44947f",
   "metadata": {},
   "source": [
    "LINEAR REGRESSION"
   ]
  },
  {
   "cell_type": "code",
   "execution_count": 21,
   "id": "140949e9",
   "metadata": {},
   "outputs": [
    {
     "name": "stdout",
     "output_type": "stream",
     "text": [
      "RSME: 4.6472797457242, R square: 0.7133593313710366, Mean abs: 3.117569419480099\n"
     ]
    }
   ],
   "source": [
    "lr = LinearRegression()\n",
    "lr.fit(X_train,y_train)\n",
    "y_pred = lr.predict(X_test)\n",
    "rsme = root_mean_squared_error(y_test,y_pred)\n",
    "r2 = r2_score(y_test,y_pred)\n",
    "mas = mean_absolute_error(y_test,y_pred)\n",
    "print(f\"RSME: {rsme}, R square: {r2}, Mean abs: {mas}\")"
   ]
  },
  {
   "cell_type": "markdown",
   "id": "a17adbbf",
   "metadata": {},
   "source": [
    "POLYNOMIAL WITH DEGREE 2"
   ]
  },
  {
   "cell_type": "code",
   "execution_count": 28,
   "id": "6ae54cf9",
   "metadata": {},
   "outputs": [
    {
     "name": "stdout",
     "output_type": "stream",
     "text": [
      "RSME: 3.6879182240789428, R square: 0.8194893868776835, Mean abs: 2.6635485504316434\n"
     ]
    }
   ],
   "source": [
    "poly = PolynomialFeatures(degree=2, include_bias=False)\n",
    "X_poly = poly.fit_transform(X)\n",
    "\n",
    "X_train, X_test, y_train,y_test = train_test_split(X_poly,y, test_size=0.3,random_state=25)\n",
    "lr = LinearRegression()\n",
    "lr.fit(X_train,y_train)\n",
    "y_pred = lr.predict(X_test)\n",
    "rsme = root_mean_squared_error(y_test,y_pred)\n",
    "r2 = r2_score(y_test,y_pred)\n",
    "mas = mean_absolute_error(y_test,y_pred)\n",
    "print(f\"RSME: {rsme}, R square: {r2}, Mean abs: {mas}\")"
   ]
  },
  {
   "cell_type": "code",
   "execution_count": 18,
   "id": "7e217652",
   "metadata": {},
   "outputs": [
    {
     "name": "stdout",
     "output_type": "stream",
     "text": [
      "RSME: 452.18227363986415, R square: -2712.7337937580114, Mean abs: 193.45222041767533\n"
     ]
    }
   ],
   "source": [
    "poly = PolynomialFeatures(degree=3, include_bias=False)\n",
    "X_poly = poly.fit_transform(X)\n",
    "\n",
    "X_train, X_test, y_train,y_test = train_test_split(X_poly,y, test_size=0.3,random_state=25)\n",
    "lr = LinearRegression()\n",
    "lr.fit(X_train,y_train)\n",
    "y_pred = lr.predict(X_test)\n",
    "rsme = root_mean_squared_error(y_test,y_pred)\n",
    "r2 = r2_score(y_test,y_pred)\n",
    "mas = mean_absolute_error(y_test,y_pred)\n",
    "print(f\"RSME: {rsme}, R square: {r2}, Mean abs: {mas}\")"
   ]
  },
  {
   "cell_type": "code",
   "execution_count": null,
   "id": "ddbc7a9e",
   "metadata": {},
   "outputs": [],
   "source": []
  }
 ],
 "metadata": {
  "kernelspec": {
   "display_name": "base",
   "language": "python",
   "name": "python3"
  },
  "language_info": {
   "codemirror_mode": {
    "name": "ipython",
    "version": 3
   },
   "file_extension": ".py",
   "mimetype": "text/x-python",
   "name": "python",
   "nbconvert_exporter": "python",
   "pygments_lexer": "ipython3",
   "version": "3.12.7"
  }
 },
 "nbformat": 4,
 "nbformat_minor": 5
}
