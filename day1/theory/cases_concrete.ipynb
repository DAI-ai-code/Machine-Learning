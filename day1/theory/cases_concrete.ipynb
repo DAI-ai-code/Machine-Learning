{
 "cells": [
  {
   "cell_type": "code",
   "execution_count": 26,
   "id": "3577c5fd",
   "metadata": {},
   "outputs": [],
   "source": [
    "import pandas as pd\n",
    "from sklearn.model_selection import train_test_split\n",
    "from sklearn.linear_model import LinearRegression\n",
    "from sklearn.metrics import mean_absolute_error, root_mean_squared_error, r2_score\n",
    "from sklearn.preprocessing import PolynomialFeatures"
   ]
  },
  {
   "cell_type": "code",
   "execution_count": 16,
   "id": "793e0658",
   "metadata": {},
   "outputs": [],
   "source": [
    "training_cement = pd.read_csv('../cases/Concrete_Strength/Concrete_Data.csv')\n",
    "testing_cement = pd.read_csv('../cases/Concrete_Strength/testConcrete.csv')\n",
    "\n"
   ]
  },
  {
   "cell_type": "code",
   "execution_count": 17,
   "id": "cbe8debd",
   "metadata": {},
   "outputs": [
    {
     "data": {
      "text/plain": [
       "'1.7.2'"
      ]
     },
     "execution_count": 17,
     "metadata": {},
     "output_type": "execute_result"
    }
   ],
   "source": [
    "import sklearn\n",
    "sklearn.__version__"
   ]
  },
  {
   "cell_type": "markdown",
   "id": "34005951",
   "metadata": {},
   "source": [
    "LINEAR REGRESSION"
   ]
  },
  {
   "cell_type": "code",
   "execution_count": 27,
   "id": "49f7886c",
   "metadata": {},
   "outputs": [
    {
     "name": "stdout",
     "output_type": "stream",
     "text": [
      "7.708182724272727\n"
     ]
    },
    {
     "data": {
      "text/plain": [
       "9.968420799205653"
      ]
     },
     "execution_count": 27,
     "metadata": {},
     "output_type": "execute_result"
    }
   ],
   "source": [
    "X = training_cement.drop('Strength', axis=1)\n",
    "y = training_cement['Strength']\n",
    "\n",
    "X_train, X_test,y_train,y_test = train_test_split(X,y,test_size=0.3,random_state=25)\n",
    "lr = LinearRegression()\n",
    "lr.fit(X_train,y_train)\n",
    "y_pred = lr.predict(X_test)\n",
    "r2 = r2_score(y_test, y_pred)\n",
    "mae = mean_absolute_error(y_test, y_pred)\n",
    "\n",
    "print(mae)\n",
    "root_mean_squared_error(y_test, y_pred)"
   ]
  },
  {
   "cell_type": "code",
   "execution_count": 19,
   "id": "35612275",
   "metadata": {},
   "outputs": [],
   "source": [
    "\n",
    "# poly = PolynomialFeatures(degree=2)\n",
    "# poly_x = poly.fit_transform(testing_cement)\n",
    "# y_pred_testing = lr.predict(poly_x)\n",
    "# y_pred_testing"
   ]
  },
  {
   "cell_type": "markdown",
   "id": "44069ee0",
   "metadata": {},
   "source": [
    "POLYNOMIAL"
   ]
  },
  {
   "cell_type": "code",
   "execution_count": 28,
   "id": "b70256d7",
   "metadata": {},
   "outputs": [
    {
     "name": "stdout",
     "output_type": "stream",
     "text": [
      "5.92992227653092\n"
     ]
    },
    {
     "data": {
      "text/plain": [
       "7.732525414389795"
      ]
     },
     "execution_count": 28,
     "metadata": {},
     "output_type": "execute_result"
    }
   ],
   "source": [
    "poly = PolynomialFeatures(degree=2)\n",
    "poly_x = poly.fit_transform(X)\n",
    "\n",
    "X_train, X_test,y_train,y_test = train_test_split(poly_x,y,test_size=0.3,random_state=25)\n",
    "lr = LinearRegression()\n",
    "lr.fit(X_train,y_train)\n",
    "y_pred = lr.predict(X_test)\n",
    "r2 = r2_score(y_test, y_pred)\n",
    "mae = mean_absolute_error(y_test, y_pred)\n",
    "print(mae)\n",
    "root_mean_squared_error(y_test, y_pred)"
   ]
  },
  {
   "cell_type": "code",
   "execution_count": 21,
   "id": "8b99ec21",
   "metadata": {},
   "outputs": [
    {
     "data": {
      "text/plain": [
       "array([  77.56407746,   53.06868613,   49.00694468,  -15.8050962 ,\n",
       "         35.60123287, -234.17122479,  -55.96624335,  114.38964641,\n",
       "        -70.26553791, -188.87326879,   60.72325514,  -22.32444249,\n",
       "        -67.12830598,    0.59062309])"
      ]
     },
     "execution_count": 21,
     "metadata": {},
     "output_type": "execute_result"
    }
   ],
   "source": [
    "\n",
    "poly = PolynomialFeatures(degree=2)\n",
    "poly_x = poly.fit_transform(testing_cement)\n",
    "y_pred_testing = lr.predict(poly_x)\n",
    "y_pred_testing"
   ]
  },
  {
   "cell_type": "code",
   "execution_count": 31,
   "id": "59af8e8d",
   "metadata": {},
   "outputs": [
    {
     "name": "stdout",
     "output_type": "stream",
     "text": [
      "5.1867292992962915\n"
     ]
    }
   ],
   "source": [
    "poly = PolynomialFeatures(degree=3)\n",
    "poly_x = poly.fit_transform(X)\n",
    "\n",
    "X_train, X_test,y_train,y_test = train_test_split(poly_x,y,test_size=0.3,random_state=25)\n",
    "lr = LinearRegression()\n",
    "lr.fit(X_train,y_train)\n",
    "y_pred = lr.predict(X_test)\n",
    "r2 = r2_score(y_test, y_pred)\n",
    "mae = mean_absolute_error(y_test, y_pred)\n",
    "print(mae)"
   ]
  },
  {
   "cell_type": "code",
   "execution_count": 23,
   "id": "bed8e1a1",
   "metadata": {},
   "outputs": [
    {
     "data": {
      "text/plain": [
       "array([   34.48271299,    26.48970493,   121.23923541,   235.1293076 ,\n",
       "        -120.66070338,  -684.99216958,   577.53717057,    50.80831026,\n",
       "        -306.40530074, -1155.65878627,    52.19140292,  -337.55387251,\n",
       "         264.45538939,   357.25711835])"
      ]
     },
     "execution_count": 23,
     "metadata": {},
     "output_type": "execute_result"
    }
   ],
   "source": [
    "\n",
    "poly = PolynomialFeatures(degree=3)\n",
    "poly_x = poly.fit_transform(testing_cement)\n",
    "y_pred_testing = lr.predict(poly_x)\n",
    "y_pred_testing"
   ]
  },
  {
   "cell_type": "code",
   "execution_count": null,
   "id": "e9e4f5bf",
   "metadata": {},
   "outputs": [
    {
     "name": "stdout",
     "output_type": "stream",
     "text": [
      "-45.830421153479726\n"
     ]
    },
    {
     "data": {
      "text/plain": [
       "112.94146186342098"
      ]
     },
     "execution_count": 30,
     "metadata": {},
     "output_type": "execute_result"
    }
   ],
   "source": [
    "poly = PolynomialFeatures(degree=4)\n",
    "poly_x = poly.fit_transform(X)\n",
    "\n",
    "X_train, X_test,y_train,y_test = train_test_split(poly_x,y,test_size=0.3,random_state=25)\n",
    "lr = LinearRegression()\n",
    "lr.fit(X_train,y_train)\n",
    "y_pred = lr.predict(X_test)\n",
    "r2 = r2_score(y_test, y_pred)\n",
    "print(r2)\n"
   ]
  },
  {
   "cell_type": "code",
   "execution_count": 25,
   "id": "0614cea8",
   "metadata": {},
   "outputs": [
    {
     "data": {
      "text/plain": [
       "array([ 5.65359521e+02,  1.73064213e+03, -1.05228699e+03,  3.67285644e+03,\n",
       "        3.60729689e+03, -3.84292861e+03,  2.48864069e+03,  1.60319729e+03,\n",
       "       -1.52865899e+03,  2.30219282e+03, -9.28263366e+02, -2.54913639e+00,\n",
       "        6.08486357e+03, -2.60298123e+03])"
      ]
     },
     "execution_count": 25,
     "metadata": {},
     "output_type": "execute_result"
    }
   ],
   "source": [
    "\n",
    "poly = PolynomialFeatures(degree=4)\n",
    "poly_x = poly.fit_transform(testing_cement)\n",
    "y_pred_testing = lr.predict(poly_x)\n",
    "y_pred_testing"
   ]
  },
  {
   "cell_type": "markdown",
   "id": "26c403c5",
   "metadata": {},
   "source": [
    "PREDICTION ON TESTING CSV"
   ]
  },
  {
   "cell_type": "code",
   "execution_count": null,
   "id": "7cd90e8f",
   "metadata": {},
   "outputs": [],
   "source": []
  },
  {
   "cell_type": "code",
   "execution_count": null,
   "id": "71cb1bc2",
   "metadata": {},
   "outputs": [],
   "source": []
  }
 ],
 "metadata": {
  "kernelspec": {
   "display_name": "Python 3",
   "language": "python",
   "name": "python3"
  },
  "language_info": {
   "codemirror_mode": {
    "name": "ipython",
    "version": 3
   },
   "file_extension": ".py",
   "mimetype": "text/x-python",
   "name": "python",
   "nbconvert_exporter": "python",
   "pygments_lexer": "ipython3",
   "version": "3.13.5"
  }
 },
 "nbformat": 4,
 "nbformat_minor": 5
}
