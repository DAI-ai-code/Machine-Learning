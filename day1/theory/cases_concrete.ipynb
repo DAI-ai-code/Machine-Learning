{
 "cells": [
  {
   "cell_type": "code",
   "execution_count": 2,
   "id": "3577c5fd",
   "metadata": {},
   "outputs": [],
   "source": [
    "import pandas as pd\n",
    "from sklearn.model_selection import train_test_split\n",
    "from sklearn.linear_model import LinearRegression\n",
    "from sklearn.metrics import mean_absolute_error, root_mean_squared_error, r2_score\n",
    "from sklearn.preprocessing import PolynomialFeatures\n",
    "from sklearn.impute import SimpleImputer"
   ]
  },
  {
   "cell_type": "code",
   "execution_count": null,
   "id": "793e0658",
   "metadata": {},
   "outputs": [
    {
     "data": {
      "text/html": [
       "<div>\n",
       "<style scoped>\n",
       "    .dataframe tbody tr th:only-of-type {\n",
       "        vertical-align: middle;\n",
       "    }\n",
       "\n",
       "    .dataframe tbody tr th {\n",
       "        vertical-align: top;\n",
       "    }\n",
       "\n",
       "    .dataframe thead th {\n",
       "        text-align: right;\n",
       "    }\n",
       "</style>\n",
       "<table border=\"1\" class=\"dataframe\">\n",
       "  <thead>\n",
       "    <tr style=\"text-align: right;\">\n",
       "      <th></th>\n",
       "      <th>Cement</th>\n",
       "      <th>Blast</th>\n",
       "      <th>Fly</th>\n",
       "      <th>Water</th>\n",
       "      <th>Superplasticizer</th>\n",
       "      <th>Coarse</th>\n",
       "      <th>Fine</th>\n",
       "      <th>Age</th>\n",
       "    </tr>\n",
       "  </thead>\n",
       "  <tbody>\n",
       "    <tr>\n",
       "      <th>0</th>\n",
       "      <td>495.0</td>\n",
       "      <td>120.0</td>\n",
       "      <td>0.0</td>\n",
       "      <td>155.0</td>\n",
       "      <td>5.0</td>\n",
       "      <td>866.0</td>\n",
       "      <td>884.0</td>\n",
       "      <td>75.0</td>\n",
       "    </tr>\n",
       "    <tr>\n",
       "      <th>1</th>\n",
       "      <td>262.0</td>\n",
       "      <td>129.0</td>\n",
       "      <td>0.0</td>\n",
       "      <td>271.0</td>\n",
       "      <td>2.0</td>\n",
       "      <td>808.0</td>\n",
       "      <td>787.0</td>\n",
       "      <td>174.0</td>\n",
       "    </tr>\n",
       "    <tr>\n",
       "      <th>2</th>\n",
       "      <td>201.0</td>\n",
       "      <td>48.0</td>\n",
       "      <td>1.0</td>\n",
       "      <td>215.0</td>\n",
       "      <td>5.0</td>\n",
       "      <td>807.0</td>\n",
       "      <td>839.0</td>\n",
       "      <td>113.0</td>\n",
       "    </tr>\n",
       "    <tr>\n",
       "      <th>3</th>\n",
       "      <td>329.0</td>\n",
       "      <td>141.0</td>\n",
       "      <td>0.0</td>\n",
       "      <td>286.0</td>\n",
       "      <td>1.0</td>\n",
       "      <td>881.0</td>\n",
       "      <td>823.0</td>\n",
       "      <td>229.0</td>\n",
       "    </tr>\n",
       "    <tr>\n",
       "      <th>4</th>\n",
       "      <td>354.0</td>\n",
       "      <td>14.0</td>\n",
       "      <td>0.0</td>\n",
       "      <td>129.0</td>\n",
       "      <td>2.0</td>\n",
       "      <td>839.0</td>\n",
       "      <td>847.0</td>\n",
       "      <td>210.0</td>\n",
       "    </tr>\n",
       "    <tr>\n",
       "      <th>5</th>\n",
       "      <td>150.0</td>\n",
       "      <td>23.0</td>\n",
       "      <td>23.0</td>\n",
       "      <td>114.0</td>\n",
       "      <td>4.0</td>\n",
       "      <td>883.0</td>\n",
       "      <td>638.0</td>\n",
       "      <td>36.0</td>\n",
       "    </tr>\n",
       "    <tr>\n",
       "      <th>6</th>\n",
       "      <td>480.0</td>\n",
       "      <td>64.0</td>\n",
       "      <td>0.0</td>\n",
       "      <td>292.0</td>\n",
       "      <td>3.0</td>\n",
       "      <td>896.0</td>\n",
       "      <td>776.0</td>\n",
       "      <td>180.0</td>\n",
       "    </tr>\n",
       "    <tr>\n",
       "      <th>7</th>\n",
       "      <td>393.0</td>\n",
       "      <td>49.0</td>\n",
       "      <td>82.0</td>\n",
       "      <td>132.0</td>\n",
       "      <td>1.0</td>\n",
       "      <td>887.0</td>\n",
       "      <td>830.0</td>\n",
       "      <td>271.0</td>\n",
       "    </tr>\n",
       "    <tr>\n",
       "      <th>8</th>\n",
       "      <td>284.0</td>\n",
       "      <td>63.0</td>\n",
       "      <td>1.0</td>\n",
       "      <td>138.0</td>\n",
       "      <td>1.0</td>\n",
       "      <td>804.0</td>\n",
       "      <td>725.0</td>\n",
       "      <td>44.0</td>\n",
       "    </tr>\n",
       "    <tr>\n",
       "      <th>9</th>\n",
       "      <td>206.0</td>\n",
       "      <td>38.0</td>\n",
       "      <td>0.0</td>\n",
       "      <td>103.0</td>\n",
       "      <td>2.0</td>\n",
       "      <td>818.0</td>\n",
       "      <td>719.0</td>\n",
       "      <td>191.0</td>\n",
       "    </tr>\n",
       "    <tr>\n",
       "      <th>10</th>\n",
       "      <td>247.0</td>\n",
       "      <td>64.0</td>\n",
       "      <td>26.0</td>\n",
       "      <td>175.0</td>\n",
       "      <td>2.0</td>\n",
       "      <td>822.0</td>\n",
       "      <td>898.0</td>\n",
       "      <td>183.0</td>\n",
       "    </tr>\n",
       "    <tr>\n",
       "      <th>11</th>\n",
       "      <td>223.0</td>\n",
       "      <td>102.0</td>\n",
       "      <td>0.0</td>\n",
       "      <td>110.0</td>\n",
       "      <td>2.0</td>\n",
       "      <td>808.0</td>\n",
       "      <td>854.0</td>\n",
       "      <td>270.0</td>\n",
       "    </tr>\n",
       "    <tr>\n",
       "      <th>12</th>\n",
       "      <td>457.0</td>\n",
       "      <td>89.0</td>\n",
       "      <td>0.0</td>\n",
       "      <td>289.0</td>\n",
       "      <td>3.0</td>\n",
       "      <td>829.0</td>\n",
       "      <td>865.0</td>\n",
       "      <td>190.0</td>\n",
       "    </tr>\n",
       "    <tr>\n",
       "      <th>13</th>\n",
       "      <td>125.0</td>\n",
       "      <td>93.0</td>\n",
       "      <td>0.0</td>\n",
       "      <td>200.0</td>\n",
       "      <td>5.0</td>\n",
       "      <td>893.0</td>\n",
       "      <td>671.0</td>\n",
       "      <td>113.0</td>\n",
       "    </tr>\n",
       "  </tbody>\n",
       "</table>\n",
       "</div>"
      ],
      "text/plain": [
       "    Cement  Blast   Fly  Water  Superplasticizer  Coarse   Fine    Age\n",
       "0    495.0  120.0   0.0  155.0               5.0   866.0  884.0   75.0\n",
       "1    262.0  129.0   0.0  271.0               2.0   808.0  787.0  174.0\n",
       "2    201.0   48.0   1.0  215.0               5.0   807.0  839.0  113.0\n",
       "3    329.0  141.0   0.0  286.0               1.0   881.0  823.0  229.0\n",
       "4    354.0   14.0   0.0  129.0               2.0   839.0  847.0  210.0\n",
       "5    150.0   23.0  23.0  114.0               4.0   883.0  638.0   36.0\n",
       "6    480.0   64.0   0.0  292.0               3.0   896.0  776.0  180.0\n",
       "7    393.0   49.0  82.0  132.0               1.0   887.0  830.0  271.0\n",
       "8    284.0   63.0   1.0  138.0               1.0   804.0  725.0   44.0\n",
       "9    206.0   38.0   0.0  103.0               2.0   818.0  719.0  191.0\n",
       "10   247.0   64.0  26.0  175.0               2.0   822.0  898.0  183.0\n",
       "11   223.0  102.0   0.0  110.0               2.0   808.0  854.0  270.0\n",
       "12   457.0   89.0   0.0  289.0               3.0   829.0  865.0  190.0\n",
       "13   125.0   93.0   0.0  200.0               5.0   893.0  671.0  113.0"
      ]
     },
     "execution_count": 4,
     "metadata": {},
     "output_type": "execute_result"
    }
   ],
   "source": [
    "training_cement = pd.read_csv('../cases/Concrete_Strength/Concrete_Data.csv')\n",
    "testing_cement = pd.read_csv('../cases/Concrete_Strength/testConcrete.csv')\n",
    "\n",
    "\n"
   ]
  },
  {
   "cell_type": "code",
   "execution_count": 17,
   "id": "cbe8debd",
   "metadata": {},
   "outputs": [
    {
     "data": {
      "text/plain": [
       "'1.7.2'"
      ]
     },
     "execution_count": 17,
     "metadata": {},
     "output_type": "execute_result"
    }
   ],
   "source": [
    "import sklearn\n",
    "sklearn.__version__"
   ]
  },
  {
   "cell_type": "markdown",
   "id": "34005951",
   "metadata": {},
   "source": [
    "LINEAR REGRESSION"
   ]
  },
  {
   "cell_type": "code",
   "execution_count": 5,
   "id": "49f7886c",
   "metadata": {},
   "outputs": [
    {
     "name": "stdout",
     "output_type": "stream",
     "text": [
      "7.708182724272727\n"
     ]
    },
    {
     "data": {
      "text/plain": [
       "9.968420799205653"
      ]
     },
     "execution_count": 5,
     "metadata": {},
     "output_type": "execute_result"
    }
   ],
   "source": [
    "X = training_cement.drop('Strength', axis=1)\n",
    "y = training_cement['Strength']\n",
    "\n",
    "X_train, X_test,y_train,y_test = train_test_split(X,y,test_size=0.3,random_state=25)\n",
    "lr = LinearRegression()\n",
    "lr.fit(X_train,y_train)\n",
    "y_pred = lr.predict(X_test)\n",
    "r2 = r2_score(y_test, y_pred)\n",
    "mae = mean_absolute_error(y_test, y_pred)\n",
    "\n",
    "print(mae)\n",
    "root_mean_squared_error(y_test, y_pred)"
   ]
  },
  {
   "cell_type": "code",
   "execution_count": 19,
   "id": "35612275",
   "metadata": {},
   "outputs": [],
   "source": [
    "\n",
    "# poly = PolynomialFeatures(degree=2)\n",
    "# poly_x = poly.fit_transform(testing_cement)\n",
    "# y_pred_testing = lr.predict(poly_x)\n",
    "# y_pred_testing"
   ]
  },
  {
   "cell_type": "markdown",
   "id": "44069ee0",
   "metadata": {},
   "source": [
    "POLYNOMIAL"
   ]
  },
  {
   "cell_type": "code",
   "execution_count": 28,
   "id": "b70256d7",
   "metadata": {},
   "outputs": [
    {
     "name": "stdout",
     "output_type": "stream",
     "text": [
      "5.92992227653092\n"
     ]
    },
    {
     "data": {
      "text/plain": [
       "7.732525414389795"
      ]
     },
     "execution_count": 28,
     "metadata": {},
     "output_type": "execute_result"
    }
   ],
   "source": [
    "poly = PolynomialFeatures(degree=2)\n",
    "poly_x = poly.fit_transform(X)\n",
    "\n",
    "X_train, X_test,y_train,y_test = train_test_split(poly_x,y,test_size=0.3,random_state=25)\n",
    "lr = LinearRegression()\n",
    "lr.fit(X_train,y_train)\n",
    "y_pred = lr.predict(X_test)\n",
    "r2 = r2_score(y_test, y_pred)\n",
    "mae = mean_absolute_error(y_test, y_pred)\n",
    "print(mae)\n",
    "root_mean_squared_error(y_test, y_pred)"
   ]
  },
  {
   "cell_type": "code",
   "execution_count": 21,
   "id": "8b99ec21",
   "metadata": {},
   "outputs": [
    {
     "data": {
      "text/plain": [
       "array([  77.56407746,   53.06868613,   49.00694468,  -15.8050962 ,\n",
       "         35.60123287, -234.17122479,  -55.96624335,  114.38964641,\n",
       "        -70.26553791, -188.87326879,   60.72325514,  -22.32444249,\n",
       "        -67.12830598,    0.59062309])"
      ]
     },
     "execution_count": 21,
     "metadata": {},
     "output_type": "execute_result"
    }
   ],
   "source": [
    "\n",
    "poly = PolynomialFeatures(degree=2)\n",
    "poly_x = poly.fit_transform(testing_cement)\n",
    "y_pred_testing = lr.predict(poly_x)\n",
    "y_pred_testing"
   ]
  },
  {
   "cell_type": "code",
   "execution_count": 31,
   "id": "59af8e8d",
   "metadata": {},
   "outputs": [
    {
     "name": "stdout",
     "output_type": "stream",
     "text": [
      "5.1867292992962915\n"
     ]
    }
   ],
   "source": [
    "poly = PolynomialFeatures(degree=3)\n",
    "poly_x = poly.fit_transform(X)\n",
    "\n",
    "X_train, X_test,y_train,y_test = train_test_split(poly_x,y,test_size=0.3,random_state=25)\n",
    "lr = LinearRegression()\n",
    "lr.fit(X_train,y_train)\n",
    "y_pred = lr.predict(X_test)\n",
    "r2 = r2_score(y_test, y_pred)\n",
    "mae = mean_absolute_error(y_test, y_pred)\n",
    "print(mae)"
   ]
  },
  {
   "cell_type": "code",
   "execution_count": 23,
   "id": "bed8e1a1",
   "metadata": {},
   "outputs": [
    {
     "data": {
      "text/plain": [
       "array([   34.48271299,    26.48970493,   121.23923541,   235.1293076 ,\n",
       "        -120.66070338,  -684.99216958,   577.53717057,    50.80831026,\n",
       "        -306.40530074, -1155.65878627,    52.19140292,  -337.55387251,\n",
       "         264.45538939,   357.25711835])"
      ]
     },
     "execution_count": 23,
     "metadata": {},
     "output_type": "execute_result"
    }
   ],
   "source": [
    "\n",
    "poly = PolynomialFeatures(degree=3)\n",
    "poly_x = poly.fit_transform(testing_cement)\n",
    "y_pred_testing = lr.predict(poly_x)\n",
    "y_pred_testing"
   ]
  },
  {
   "cell_type": "code",
   "execution_count": null,
   "id": "e9e4f5bf",
   "metadata": {},
   "outputs": [
    {
     "name": "stdout",
     "output_type": "stream",
     "text": [
      "-45.830421153479726\n"
     ]
    },
    {
     "data": {
      "text/plain": [
       "112.94146186342098"
      ]
     },
     "execution_count": 30,
     "metadata": {},
     "output_type": "execute_result"
    }
   ],
   "source": [
    "poly = PolynomialFeatures(degree=4)\n",
    "poly_x = poly.fit_transform(X)\n",
    "\n",
    "X_train, X_test,y_train,y_test = train_test_split(poly_x,y,test_size=0.3,random_state=25)\n",
    "lr = LinearRegression()\n",
    "lr.fit(X_train,y_train)\n",
    "y_pred = lr.predict(X_test)\n",
    "r2 = r2_score(y_test, y_pred)\n",
    "print(r2)\n"
   ]
  },
  {
   "cell_type": "code",
   "execution_count": 25,
   "id": "0614cea8",
   "metadata": {},
   "outputs": [
    {
     "data": {
      "text/plain": [
       "array([ 5.65359521e+02,  1.73064213e+03, -1.05228699e+03,  3.67285644e+03,\n",
       "        3.60729689e+03, -3.84292861e+03,  2.48864069e+03,  1.60319729e+03,\n",
       "       -1.52865899e+03,  2.30219282e+03, -9.28263366e+02, -2.54913639e+00,\n",
       "        6.08486357e+03, -2.60298123e+03])"
      ]
     },
     "execution_count": 25,
     "metadata": {},
     "output_type": "execute_result"
    }
   ],
   "source": [
    "\n",
    "poly = PolynomialFeatures(degree=4)\n",
    "poly_x = poly.fit_transform(testing_cement)\n",
    "y_pred_testing = lr.predict(poly_x)\n",
    "y_pred_testing"
   ]
  },
  {
   "cell_type": "markdown",
   "id": "26c403c5",
   "metadata": {},
   "source": [
    "PREDICTION ON TESTING CSV"
   ]
  },
  {
   "cell_type": "code",
   "execution_count": null,
   "id": "7cd90e8f",
   "metadata": {},
   "outputs": [],
   "source": []
  },
  {
   "cell_type": "code",
   "execution_count": null,
   "id": "71cb1bc2",
   "metadata": {},
   "outputs": [],
   "source": []
  }
 ],
 "metadata": {
  "kernelspec": {
   "display_name": "base",
   "language": "python",
   "name": "python3"
  },
  "language_info": {
   "codemirror_mode": {
    "name": "ipython",
    "version": 3
   },
   "file_extension": ".py",
   "mimetype": "text/x-python",
   "name": "python",
   "nbconvert_exporter": "python",
   "pygments_lexer": "ipython3",
   "version": "3.13.5"
  }
 },
 "nbformat": 4,
 "nbformat_minor": 5
}
