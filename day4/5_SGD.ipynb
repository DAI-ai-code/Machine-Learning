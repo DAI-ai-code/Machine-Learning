{
 "cells": [
  {
   "cell_type": "code",
   "execution_count": 1,
   "id": "c830d43a",
   "metadata": {},
   "outputs": [],
   "source": [
    "import pandas as pd\n",
    "import numpy as np\n",
    "from sklearn.metrics import log_loss, classification_report\n",
    "from sklearn.preprocessing import MinMaxScaler, LabelEncoder\n",
    "from sklearn.model_selection import train_test_split\n",
    "from sklearn.linear_model import SGDClassifier"
   ]
  },
  {
   "cell_type": "markdown",
   "id": "3a49a22d",
   "metadata": {},
   "source": [
    "try on kyphosis dataset\n"
   ]
  },
  {
   "cell_type": "code",
   "execution_count": 2,
   "id": "92f17876",
   "metadata": {},
   "outputs": [],
   "source": [
    "kyph = pd.read_csv('../Datasets/cases/Kyphosis/Kyphosis.csv')\n",
    "le = LabelEncoder()\n",
    "kyph['Kyphosis'] = le.fit_transform(kyph['Kyphosis'])\n",
    "y = kyph['Kyphosis']\n",
    "X = kyph.drop('Kyphosis', axis=1)"
   ]
  },
  {
   "cell_type": "code",
   "execution_count": 3,
   "id": "f7ed7800",
   "metadata": {},
   "outputs": [],
   "source": [
    "X_train, X_test,y_train,y_test = train_test_split(X,y,test_size=0.3, random_state=25)\n",
    "mm = MinMaxScaler()\n",
    "X_trn_scl = mm.fit_transform(X_train)\n",
    "X_tst_scl = mm.fit_transform(X_test)\n"
   ]
  },
  {
   "cell_type": "code",
   "execution_count": 22,
   "id": "4b3f47de",
   "metadata": {},
   "outputs": [
    {
     "name": "stdout",
     "output_type": "stream",
     "text": [
      "0.3603169975312373\n"
     ]
    }
   ],
   "source": [
    "sgd = SGDClassifier(random_state=25, loss='log_loss', learning_rate='constant', eta0=0.8)\n",
    "sgd.fit(X_trn_scl,y_train)\n",
    "y_pred_prob = sgd.predict_proba(X_tst_scl)\n",
    "print(log_loss(y_test,y_pred_prob))"
   ]
  },
  {
   "cell_type": "code",
   "execution_count": 20,
   "id": "4e233d31",
   "metadata": {},
   "outputs": [
    {
     "name": "stdout",
     "output_type": "stream",
     "text": [
      "0.3062431053769583\n"
     ]
    }
   ],
   "source": [
    "sgd = SGDClassifier(random_state=25, loss='log_loss', learning_rate='adaptive', eta0=0.8)\n",
    "sgd.fit(X_trn_scl,y_train)\n",
    "y_pred_prob = sgd.predict_proba(X_tst_scl)\n",
    "print(log_loss(y_test,y_pred_prob))"
   ]
  },
  {
   "cell_type": "code",
   "execution_count": 11,
   "id": "005f13f7",
   "metadata": {},
   "outputs": [
    {
     "name": "stdout",
     "output_type": "stream",
     "text": [
      "              precision    recall  f1-score   support\n",
      "\n",
      "           0       0.80      1.00      0.89        20\n",
      "           1       0.00      0.00      0.00         5\n",
      "\n",
      "    accuracy                           0.80        25\n",
      "   macro avg       0.40      0.50      0.44        25\n",
      "weighted avg       0.64      0.80      0.71        25\n",
      "\n"
     ]
    },
    {
     "name": "stderr",
     "output_type": "stream",
     "text": [
      "c:\\Users\\dai\\AppData\\Local\\anaconda3\\Lib\\site-packages\\sklearn\\metrics\\_classification.py:1731: UndefinedMetricWarning: Precision is ill-defined and being set to 0.0 in labels with no predicted samples. Use `zero_division` parameter to control this behavior.\n",
      "  _warn_prf(average, modifier, f\"{metric.capitalize()} is\", result.shape[0])\n",
      "c:\\Users\\dai\\AppData\\Local\\anaconda3\\Lib\\site-packages\\sklearn\\metrics\\_classification.py:1731: UndefinedMetricWarning: Precision is ill-defined and being set to 0.0 in labels with no predicted samples. Use `zero_division` parameter to control this behavior.\n",
      "  _warn_prf(average, modifier, f\"{metric.capitalize()} is\", result.shape[0])\n",
      "c:\\Users\\dai\\AppData\\Local\\anaconda3\\Lib\\site-packages\\sklearn\\metrics\\_classification.py:1731: UndefinedMetricWarning: Precision is ill-defined and being set to 0.0 in labels with no predicted samples. Use `zero_division` parameter to control this behavior.\n",
      "  _warn_prf(average, modifier, f\"{metric.capitalize()} is\", result.shape[0])\n"
     ]
    }
   ],
   "source": [
    "y_pred = sgd.predict(X_tst_scl)\n",
    "print(classification_report(y_test,y_pred))"
   ]
  },
  {
   "cell_type": "code",
   "execution_count": null,
   "id": "29bb0939",
   "metadata": {},
   "outputs": [],
   "source": []
  },
  {
   "cell_type": "markdown",
   "id": "69523d2d",
   "metadata": {},
   "source": [
    "ON HR"
   ]
  },
  {
   "cell_type": "code",
   "execution_count": null,
   "id": "06db5350",
   "metadata": {},
   "outputs": [],
   "source": [
    "import pandas as pd\n",
    "from sklearn.linear_model import LogisticRegression\n",
    "from sklearn.metrics import accuracy_score, classification_report\n",
    "from sklearn.model_selection import train_test_split\n",
    "from sklearn.neighbors import KNeighborsClassifier\n",
    "from sklearn.preprocessing import StandardScaler\n",
    "import numpy as np\n",
    "import pandas as pd\n",
    "from sklearn.metrics import roc_curve, roc_auc_score\n",
    "import matplotlib.pyplot as plt\n"
   ]
  },
  {
   "cell_type": "code",
   "execution_count": 23,
   "id": "1ac67f56",
   "metadata": {},
   "outputs": [],
   "source": [
    "df = pd.read_csv('../Datasets/cases/Human_Resources_Analytics/HR_comma_sep.csv')\n",
    "hr_dummy = pd.get_dummies(df)"
   ]
  },
  {
   "cell_type": "code",
   "execution_count": null,
   "id": "96c68657",
   "metadata": {},
   "outputs": [],
   "source": []
  }
 ],
 "metadata": {
  "kernelspec": {
   "display_name": "base",
   "language": "python",
   "name": "python3"
  },
  "language_info": {
   "codemirror_mode": {
    "name": "ipython",
    "version": 3
   },
   "file_extension": ".py",
   "mimetype": "text/x-python",
   "name": "python",
   "nbconvert_exporter": "python",
   "pygments_lexer": "ipython3",
   "version": "3.13.5"
  }
 },
 "nbformat": 4,
 "nbformat_minor": 5
}
