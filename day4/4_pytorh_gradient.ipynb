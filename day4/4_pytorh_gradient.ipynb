{
 "cells": [
  {
   "cell_type": "markdown",
   "id": "24144423",
   "metadata": {},
   "source": [
    "# Nahi krvaya."
   ]
  },
  {
   "cell_type": "code",
   "execution_count": null,
   "id": "6f8d9754",
   "metadata": {},
   "outputs": [],
   "source": []
  }
 ],
 "metadata": {
  "kernelspec": {
   "display_name": "base",
   "language": "python",
   "name": "python3"
  },
  "language_info": {
   "name": "python",
   "version": "3.13.5"
  }
 },
 "nbformat": 4,
 "nbformat_minor": 5
}
