{
 "cells": [
  {
   "cell_type": "code",
   "execution_count": 2,
   "id": "c1e9a9ca",
   "metadata": {},
   "outputs": [],
   "source": [
    "import pandas as pd\n",
    "import numpy as np\n",
    "from sklearn.metrics import log_loss, classification_report\n",
    "from sklearn.preprocessing import MinMaxScaler, LabelEncoder\n",
    "from sklearn.model_selection import train_test_split"
   ]
  },
  {
   "cell_type": "code",
   "execution_count": 3,
   "id": "84c8c491",
   "metadata": {},
   "outputs": [],
   "source": [
    "x = np.array([1.2, 1.4, 0.5, 0.6, 1.1, 1.3])\n",
    "y = np.array([1, 1, 0, 0, 1, 1])\n",
    "init_b,init_w = 0.1,0.1\n",
    "\n",
    "def sigmoid(z):\n",
    "    return 1/(1+np.exp(-z))\n"
   ]
  },
  {
   "cell_type": "markdown",
   "id": "011698f4",
   "metadata": {},
   "source": [
    "# Batch"
   ]
  },
  {
   "cell_type": "code",
   "execution_count": 4,
   "id": "be311115",
   "metadata": {},
   "outputs": [
    {
     "name": "stdout",
     "output_type": "stream",
     "text": [
      "Algo stooped at 22422th iteration as loss< tolerance\n",
      "w =  14.932983566087332  b =  -12.528587829527496\n",
      "Loss =  0.00999963924349252\n"
     ]
    }
   ],
   "source": [
    "w,b = init_w, init_b\n",
    "tol = 0.01\n",
    "eta= 0.1\n",
    "\n",
    "for i in range(0,100000):\n",
    "    y_hat = sigmoid(w*x +b)\n",
    "    L = log_loss(y,y_hat)\n",
    "    if L < tol:\n",
    "        print(f\"Algo stooped at {i+1}th iteration as loss< tolerance\")\n",
    "        print(\"w = \",w, \" b = \",b)\n",
    "        print(\"Loss = \", L)\n",
    "        break\n",
    "    db = -np.mean((y-y_hat))\n",
    "    dw = -np.mean((y-y_hat)*x)\n",
    "    w = w - eta*dw\n",
    "    b = b - eta*db"
   ]
  },
  {
   "cell_type": "markdown",
   "id": "455ad6d5",
   "metadata": {},
   "source": [
    "# Stochastic"
   ]
  },
  {
   "cell_type": "code",
   "execution_count": 6,
   "id": "ea8e36ec",
   "metadata": {},
   "outputs": [
    {
     "name": "stdout",
     "output_type": "stream",
     "text": [
      "Algo stooped at 3724th iteration as loss< tolerance\n",
      "w =  14.934107014300606  b =  -12.527903529116305\n",
      "Loss =  0.009998813545891534\n"
     ]
    }
   ],
   "source": [
    "w,b = init_w, init_b\n",
    "tol = 0.01\n",
    "eta= 0.1\n",
    "\n",
    "for i in range(0,100000):\n",
    "    for j in range(0,len(x)):\n",
    "        y_hat = sigmoid(x[j]*w + b)\n",
    "        db = -np.mean((y[j]-y_hat))\n",
    "        dw = -np.mean((y[j]-y_hat)*x[j])\n",
    "        w = w - eta*dw\n",
    "        b = b - eta*db\n",
    "    y_hat_all  = sigmoid(w*x +b)\n",
    "    L = log_loss(y,y_hat_all)\n",
    "    if L < tol:\n",
    "        print(f\"Algo stooped at {i+1}th iteration as loss< tolerance\")\n",
    "        print(\"w = \",w, \" b = \",b)\n",
    "        print(\"Loss = \", L)\n",
    "        break\n"
   ]
  },
  {
   "cell_type": "markdown",
   "id": "971145a9",
   "metadata": {},
   "source": [
    "# Mini Batch"
   ]
  },
  {
   "cell_type": "markdown",
   "id": "0f73d642",
   "metadata": {},
   "source": [
    "below one is not mini batch but is getting better result as less number of iteration idk why"
   ]
  },
  {
   "cell_type": "code",
   "execution_count": null,
   "id": "d26b2406",
   "metadata": {},
   "outputs": [
    {
     "name": "stdout",
     "output_type": "stream",
     "text": [
      "Algo stooped at 1869th iteration as loss < tolerance\n",
      "w =  14.934135708313844  b =  -12.529595326345907\n",
      "Loss =  0.009996490777737744\n"
     ]
    }
   ],
   "source": [
    "# w,b = init_w, init_b\n",
    "# tol = 0.01\n",
    "# eta= 0.1\n",
    "# batches = [[0,1,2],[3,4,5]]\n",
    "# y[batches[1]]\n",
    "\n",
    "# for i in range(0,100000):\n",
    "#     for j in range(0,len(x)):\n",
    "#         for batch in batches:\n",
    "#             y_hat = sigmoid(x[batch]*w + b)\n",
    "#             db = -np.mean((y[batch]-y_hat))\n",
    "#             dw = -np.mean((y[batch]-y_hat)*x[batch])\n",
    "#             w = w - eta*dw\n",
    "#             b = b - eta*db\n",
    "#     y_hat_all  = sigmoid(w*x +b)\n",
    "#     L = log_loss(y,y_hat_all)\n",
    "#     if L < tol:\n",
    "#         print(f\"Algo stooped at {i+1}th iteration as loss < tolerance\")\n",
    "#         print(\"w = \",w, \" b = \",b)\n",
    "#         print(\"Loss = \", L)\n",
    "#         break\n"
   ]
  },
  {
   "cell_type": "code",
   "execution_count": null,
   "id": "2a1ba48b",
   "metadata": {},
   "outputs": [],
   "source": [
    "w,b = init_w, init_b\n",
    "tol = 0.01\n",
    "eta= 0.1\n",
    "batches = [[0,1,2],[3,4,5]]\n",
    "y[batches[1]]\n",
    "\n",
    "for i in range(0,100000):\n",
    "    for batch in batches:\n",
    "        y_hat = sigmoid(x[batch]*w + b)\n",
    "        db = -np.mean((y[batch]-y_hat))\n",
    "        dw = -np.mean((y[batch]-y_hat)*x[batch])\n",
    "        w = w - eta*dw\n",
    "        b = b - eta*db\n",
    "    y_hat_all  = sigmoid(w*x +b)\n",
    "    L = log_loss(y,y_hat_all)\n",
    "    if L < tol:\n",
    "        print(f\"Algo stooped at {i+1}th iteration as loss< tolerance\")\n",
    "        print(\"w = \",w, \" b = \",b)\n",
    "        print(\"Loss = \", L)\n",
    "        break\n"
   ]
  },
  {
   "cell_type": "code",
   "execution_count": 11,
   "id": "a7039e14",
   "metadata": {},
   "outputs": [
    {
     "name": "stdout",
     "output_type": "stream",
     "text": [
      "Algo stooped at 7452th iteration as loss< tolerance\n",
      "w =  14.93366870514735  b =  -12.528467210745575\n",
      "Loss =  0.009998732901535069\n"
     ]
    }
   ],
   "source": [
    "w,b = init_w, init_b\n",
    "tol = 0.01\n",
    "eta= 0.1\n",
    "batches = [[0,1],[2,3],[4,5]]\n",
    "y[batches[1]]\n",
    "\n",
    "for i in range(0,100000):\n",
    "    for batch in batches:\n",
    "        y_hat = sigmoid(x[batch]*w + b)\n",
    "        db = -np.mean((y[batch]-y_hat))\n",
    "        dw = -np.mean((y[batch]-y_hat)*x[batch])\n",
    "        w = w - eta*dw\n",
    "        b = b - eta*db\n",
    "    y_hat_all  = sigmoid(w*x +b)\n",
    "    L = log_loss(y,y_hat_all)\n",
    "    if L < tol:\n",
    "        print(f\"Algo stooped at {i+1}th iteration as loss< tolerance\")\n",
    "        print(\"w = \",w, \" b = \",b)\n",
    "        print(\"Loss = \", L)\n",
    "        break\n"
   ]
  },
  {
   "cell_type": "code",
   "execution_count": null,
   "id": "9cc9a5e6",
   "metadata": {},
   "outputs": [],
   "source": []
  }
 ],
 "metadata": {
  "kernelspec": {
   "display_name": "base",
   "language": "python",
   "name": "python3"
  },
  "language_info": {
   "codemirror_mode": {
    "name": "ipython",
    "version": 3
   },
   "file_extension": ".py",
   "mimetype": "text/x-python",
   "name": "python",
   "nbconvert_exporter": "python",
   "pygments_lexer": "ipython3",
   "version": "3.13.5"
  }
 },
 "nbformat": 4,
 "nbformat_minor": 5
}
