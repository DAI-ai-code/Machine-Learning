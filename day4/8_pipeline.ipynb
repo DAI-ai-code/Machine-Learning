{
 "cells": [
  {
   "cell_type": "code",
   "execution_count": 1,
   "id": "85cd7cb0",
   "metadata": {},
   "outputs": [],
   "source": [
    "import pandas as pd\n",
    "from sklearn.preprocessing import LabelEncoder, StandardScaler, MinMaxScaler\n",
    "from sklearn.neighbors import KNeighborsClassifier, KNeighborsRegressor\n",
    "from sklearn.model_selection import train_test_split\n",
    "from sklearn.metrics import r2_score, accuracy_score\n",
    "import matplotlib.pyplot as plt\n",
    "from sklearn.compose import make_column_transformer, make_column_selector\n",
    "from sklearn.preprocessing import OneHotEncoder\n",
    "from sklearn.pipeline import Pipeline"
   ]
  },
  {
   "cell_type": "code",
   "execution_count": 4,
   "id": "dea97298",
   "metadata": {},
   "outputs": [
    {
     "name": "stdout",
     "output_type": "stream",
     "text": [
      "0.7956343382671531\n"
     ]
    },
    {
     "data": {
      "text/plain": [
       "array([1., 1., 1., 1., 0., 0., 0., 0., 0., 0., 0., 0., 0., 0., 0.])"
      ]
     },
     "execution_count": 4,
     "metadata": {},
     "output_type": "execute_result"
    }
   ],
   "source": [
    "hr = pd.read_csv('../Datasets/cases/Human_Resources_Analytics/HR_comma_sep.csv')\n",
    "X = hr.drop('left', axis=1)\n",
    "categ_cols = list(X.columns[X.dtypes == object])\n",
    "num_cols = list(X.columns[X.dtypes != object])\n",
    "ohe = OneHotEncoder(drop='first', sparse_output=False).set_output(transform='pandas')\n",
    "trns = make_column_transformer((ohe, make_column_selector(dtype_include=object)), remainder='passthrough', verbose_feature_names_out=False)\n",
    "trns = trns.set_output(transform='pandas')\n",
    "X_trns = trns.fit_transform(X)\n",
    "y = hr['left'] \n",
    "\n",
    "X_train, X_test, y_train, y_test = train_test_split(X_trns,y,test_size=0.3,random_state=25)\n",
    "\n",
    "std = StandardScaler()\n",
    "X_trn_scl = std.fit_transform(X_train)\n",
    "X_tst_scl = std.transform(X_test)\n",
    "\n",
    "knn = KNeighborsRegressor(n_neighbors=1)\n",
    "knn.fit(X_trn_scl,y_train)\n",
    "y_pred = knn.predict(X_tst_scl)\n",
    "\n",
    "print(r2_score(y_test,y_pred))\n",
    "\n",
    "hr_test = pd.read_csv('../Datasets/cases/Human_Resources_Analytics/tst_hr.csv')\n",
    "X_hr_test = trns.transform(hr_test)\n",
    "X_hr_test = std.transform(X_hr_test)\n",
    "\n",
    "y_pred = knn.predict(X_hr_test)\n",
    "y_pred"
   ]
  },
  {
   "cell_type": "markdown",
   "id": "12db4444",
   "metadata": {},
   "source": [
    "always accepts list of tuples\n"
   ]
  },
  {
   "cell_type": "code",
   "execution_count": 6,
   "id": "bfd953b1",
   "metadata": {},
   "outputs": [
    {
     "data": {
      "text/plain": [
       "array([1., 1., 1., 1., 0., 0., 0., 0., 0., 0., 0., 0., 0., 0., 0.])"
      ]
     },
     "execution_count": 6,
     "metadata": {},
     "output_type": "execute_result"
    }
   ],
   "source": [
    "pipe = Pipeline(steps=[('OHE',trns), ('SCL', std), ('KNN', knn)])\n",
    "pipe.fit(X,y)\n",
    "pipe.predict(hr_test)"
   ]
  },
  {
   "cell_type": "code",
   "execution_count": null,
   "id": "60219834",
   "metadata": {},
   "outputs": [],
   "source": []
  }
 ],
 "metadata": {
  "kernelspec": {
   "display_name": "base",
   "language": "python",
   "name": "python3"
  },
  "language_info": {
   "codemirror_mode": {
    "name": "ipython",
    "version": 3
   },
   "file_extension": ".py",
   "mimetype": "text/x-python",
   "name": "python",
   "nbconvert_exporter": "python",
   "pygments_lexer": "ipython3",
   "version": "3.13.5"
  }
 },
 "nbformat": 4,
 "nbformat_minor": 5
}
