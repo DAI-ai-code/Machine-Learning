{
 "cells": [
  {
   "cell_type": "markdown",
   "id": "23abf265",
   "metadata": {},
   "source": [
    "On concrete strength data do voting regression, use linear reg, elasticnet and decision tree regression. use R2 score."
   ]
  },
  {
   "cell_type": "code",
   "execution_count": 14,
   "id": "7407b42a",
   "metadata": {},
   "outputs": [],
   "source": [
    "import numpy as np\n",
    "import pandas as pd\n",
    "import matplotlib.pyplot as plt\n",
    "import seaborn as sns\n",
    "from sklearn.tree import DecisionTreeRegressor\n",
    "from sklearn.linear_model import LinearRegression, ElasticNet\n",
    "from sklearn.ensemble import VotingRegressor            # import for voting ensembling regression\n",
    "from sklearn.preprocessing import StandardScaler, LabelEncoder\n",
    "from sklearn.compose import make_column_selector, make_column_transformer\n",
    "from sklearn.metrics import r2_score, root_mean_squared_error\n",
    "from sklearn.model_selection import train_test_split\n"
   ]
  },
  {
   "cell_type": "code",
   "execution_count": 9,
   "id": "a09210eb",
   "metadata": {},
   "outputs": [],
   "source": [
    "df = pd.read_csv('../Datasets/cases/Concrete_Strength/Concrete_Data.csv')\n",
    "X = df.drop('Strength', axis=1)\n",
    "y = df['Strength']\n",
    "\n",
    "X_train, X_test, y_train, y_test = train_test_split(X, y, test_size=0.3, random_state=25)"
   ]
  },
  {
   "cell_type": "code",
   "execution_count": 11,
   "id": "5c723bb3",
   "metadata": {},
   "outputs": [],
   "source": [
    "trf_scaler = make_column_transformer((StandardScaler(), make_column_selector(dtype_exclude=object)), \n",
    "                                     remainder='passthrough', verbose_feature_names_out=False).set_output(transform='pandas')\n",
    "\n",
    "X_train_trf = trf_scaler.fit_transform(X_train)\n",
    "X_test_trf = trf_scaler.transform(X_test)\n",
    "\n"
   ]
  },
  {
   "cell_type": "code",
   "execution_count": 12,
   "id": "cd9c0f46",
   "metadata": {},
   "outputs": [],
   "source": [
    "lin_reg = LinearRegression()\n",
    "e_net1 = ElasticNet(alpha=0.5, l1_ratio=0.5)\n",
    "e_net2 = ElasticNet(alpha=0.8, l1_ratio=0.8)\n",
    "dtr1 = DecisionTreeRegressor(random_state=25)\n",
    "dtr2 = DecisionTreeRegressor(random_state=25, max_depth=3)\n",
    "\n",
    "voting = VotingRegressor(estimators=[\n",
    "    ('LinearRegression', lin_reg),\n",
    "    ('ElasticNet1', e_net1),\n",
    "    ('ElasticNet2', e_net2),\n",
    "    ('DecisionTreeRegressor1', dtr1),\n",
    "    ('DecisionTreeRegressor2', dtr2)]\n",
    "    )"
   ]
  },
  {
   "cell_type": "code",
   "execution_count": 15,
   "id": "5694afa3",
   "metadata": {},
   "outputs": [
    {
     "name": "stdout",
     "output_type": "stream",
     "text": [
      "0.7534927026429945\n"
     ]
    }
   ],
   "source": [
    "voting.fit(X_train_trf, y_train)\n",
    "y_pred_trf = voting.predict(X_test_trf)\n",
    "print(r2_score(y_test, y_pred_trf))"
   ]
  },
  {
   "cell_type": "code",
   "execution_count": null,
   "id": "8eaf7d0e",
   "metadata": {},
   "outputs": [
    {
     "name": "stdout",
     "output_type": "stream",
     "text": [
      "Estimator:  LinearRegression()\n",
      "R2 Score =  0.635183914246411\n",
      "Estimator:  ElasticNet(alpha=0.5)\n",
      "R2 Score =  0.5668745544971869\n",
      "Estimator:  ElasticNet(alpha=0.8, l1_ratio=0.8)\n",
      "R2 Score =  0.5650932986688736\n",
      "Estimator:  DecisionTreeRegressor(random_state=25)\n",
      "R2 Score =  0.8127760533837747\n",
      "Estimator:  DecisionTreeRegressor(max_depth=3, random_state=25)\n",
      "R2 Score =  0.5608309573895383\n"
     ]
    }
   ],
   "source": [
    "for i in range(len(voting.estimators_)):\n",
    "    print('Estimator: ', voting.estimators_[i])\n",
    "    print('R2 Score = ', r2_score(y_test, voting.estimators_[i].predict(X_test_trf)))"
   ]
  },
  {
   "cell_type": "markdown",
   "id": "d9170765",
   "metadata": {},
   "source": [
    "Without scaling"
   ]
  },
  {
   "cell_type": "code",
   "execution_count": 22,
   "id": "2e8280b6",
   "metadata": {},
   "outputs": [
    {
     "name": "stdout",
     "output_type": "stream",
     "text": [
      "0.7831678377685559\n"
     ]
    }
   ],
   "source": [
    "voting.fit(X_train, y_train)\n",
    "y_pred = voting.predict(X_test)\n",
    "print(r2_score(y_test, y_pred))"
   ]
  },
  {
   "cell_type": "code",
   "execution_count": null,
   "id": "5d22e4b2",
   "metadata": {},
   "outputs": [
    {
     "name": "stdout",
     "output_type": "stream",
     "text": [
      "Estimator:  LinearRegression()\n",
      "R2 Score =  0.6351839142464111\n",
      "Estimator:  ElasticNet(alpha=0.5)\n",
      "R2 Score =  0.6348697759809028\n",
      "Estimator:  ElasticNet(alpha=0.8, l1_ratio=0.8)\n",
      "R2 Score =  0.634405448057903\n",
      "Estimator:  DecisionTreeRegressor(random_state=25)\n",
      "R2 Score =  0.8127760533837747\n",
      "Estimator:  DecisionTreeRegressor(max_depth=3, random_state=25)\n",
      "R2 Score =  0.5608309573895383\n"
     ]
    }
   ],
   "source": [
    "for i in range(len(voting.estimators_)):\n",
    "    print('Estimator: ', voting.estimators_[i])\n",
    "    print('R2 Score = ', r2_score(y_test, voting.estimators_[i].predict(X_test)))"
   ]
  },
  {
   "cell_type": "markdown",
   "id": "0221b53f",
   "metadata": {},
   "source": [
    "with minmax scaling"
   ]
  },
  {
   "cell_type": "code",
   "execution_count": 25,
   "id": "c4f9016a",
   "metadata": {},
   "outputs": [
    {
     "name": "stdout",
     "output_type": "stream",
     "text": [
      "0.6525802141157483\n",
      "\n",
      "Estimator:  LinearRegression()\n",
      "R2 Score =  0.635183914246411\n",
      "Estimator:  ElasticNet(alpha=0.5)\n",
      "R2 Score =  0.13601713200094767\n",
      "Estimator:  ElasticNet(alpha=0.8, l1_ratio=0.8)\n",
      "R2 Score =  0.11542599071083992\n",
      "Estimator:  DecisionTreeRegressor(random_state=25)\n",
      "R2 Score =  0.8127760533837747\n",
      "Estimator:  DecisionTreeRegressor(max_depth=3, random_state=25)\n",
      "R2 Score =  0.5608309573895383\n"
     ]
    }
   ],
   "source": [
    "from sklearn.preprocessing import MinMaxScaler\n",
    "trf_scaler = make_column_transformer((MinMaxScaler(), make_column_selector(dtype_exclude=object)), \n",
    "                                     remainder='passthrough', verbose_feature_names_out=False).set_output(transform='pandas')\n",
    "\n",
    "X_train_trf = trf_scaler.fit_transform(X_train)\n",
    "X_test_trf = trf_scaler.transform(X_test)\n",
    "\n",
    "voting.fit(X_train_trf, y_train)\n",
    "y_pred_trf = voting.predict(X_test_trf)\n",
    "print(r2_score(y_test, y_pred_trf))\n",
    "print()\n",
    "\n",
    "for i in range(len(voting.estimators_)):\n",
    "    print('Estimator: ', voting.estimators_[i])\n",
    "    print('R2 Score = ', r2_score(y_test, voting.estimators_[i].predict(X_test_trf)))"
   ]
  },
  {
   "cell_type": "markdown",
   "id": "b3a229cf",
   "metadata": {},
   "source": [
    "without scaling performs better, now add weights"
   ]
  },
  {
   "cell_type": "code",
   "execution_count": 51,
   "id": "4ef3e558",
   "metadata": {},
   "outputs": [
    {
     "name": "stdout",
     "output_type": "stream",
     "text": [
      "0.855118135537777\n",
      "\n",
      "Estimator:  LinearRegression()\n",
      "R2 Score =  0.6351839142464111\n",
      "Estimator:  ElasticNet(alpha=0.5)\n",
      "R2 Score =  0.6348697759809028\n",
      "Estimator:  ElasticNet(alpha=0.8, l1_ratio=0.8)\n",
      "R2 Score =  0.634405448057903\n",
      "Estimator:  DecisionTreeRegressor(random_state=25)\n",
      "R2 Score =  0.8127760533837747\n",
      "Estimator:  DecisionTreeRegressor(max_depth=3, random_state=25)\n",
      "R2 Score =  0.5608309573895383\n"
     ]
    }
   ],
   "source": [
    "lin_reg = LinearRegression()\n",
    "e_net1 = ElasticNet(alpha=0.5, l1_ratio=0.5)\n",
    "e_net2 = ElasticNet(alpha=0.8, l1_ratio=0.8)\n",
    "dtr1 = DecisionTreeRegressor(random_state=25)\n",
    "dtr2 = DecisionTreeRegressor(random_state=25, max_depth=3)\n",
    "\n",
    "voting = VotingRegressor(estimators=[\n",
    "    ('LinearRegression', lin_reg),\n",
    "    ('ElasticNet1', e_net1),\n",
    "    ('ElasticNet2', e_net2),\n",
    "    ('DecisionTreeRegressor1', dtr1),\n",
    "    ('DecisionTreeRegressor2', dtr2)],\n",
    "    weights=[0.5, 0.5, 0.5, 3.4, 0.1]\n",
    "    )\n",
    "\n",
    "voting.fit(X_train, y_train)\n",
    "y_pred = voting.predict(X_test)\n",
    "print(r2_score(y_test, y_pred))\n",
    "print()\n",
    "\n",
    "for i in range(len(voting.estimators_)):\n",
    "    print('Estimator: ', voting.estimators_[i])\n",
    "    print('R2 Score = ', r2_score(y_test, voting.estimators_[i].predict(X_test)))"
   ]
  },
  {
   "cell_type": "code",
   "execution_count": null,
   "id": "e62ce120",
   "metadata": {},
   "outputs": [],
   "source": []
  }
 ],
 "metadata": {
  "kernelspec": {
   "display_name": "base",
   "language": "python",
   "name": "python3"
  },
  "language_info": {
   "codemirror_mode": {
    "name": "ipython",
    "version": 3
   },
   "file_extension": ".py",
   "mimetype": "text/x-python",
   "name": "python",
   "nbconvert_exporter": "python",
   "pygments_lexer": "ipython3",
   "version": "3.13.5"
  }
 },
 "nbformat": 4,
 "nbformat_minor": 5
}
