{
 "cells": [
  {
   "cell_type": "markdown",
   "id": "ff4bef3a",
   "metadata": {},
   "source": [
    "#### voting"
   ]
  },
  {
   "cell_type": "code",
   "execution_count": 2,
   "id": "d07e46ce",
   "metadata": {},
   "outputs": [],
   "source": [
    "import numpy as np\n",
    "import pandas as pd\n",
    "import matplotlib.pyplot as plt\n",
    "import seaborn as sns\n",
    "from sklearn.tree import DecisionTreeClassifier\n",
    "from sklearn.neighbors import KNeighborsClassifier\n",
    "from sklearn.naive_bayes import GaussianNB\n",
    "from sklearn.ensemble import VotingClassifier            # import for voting ensembling\n",
    "from sklearn.preprocessing import OneHotEncoder, LabelEncoder\n",
    "from sklearn.compose import make_column_selector, make_column_transformer\n",
    "from sklearn.metrics import f1_score, classification_report, log_loss\n",
    "from sklearn.model_selection import train_test_split\n"
   ]
  },
  {
   "cell_type": "code",
   "execution_count": 3,
   "id": "930583eb",
   "metadata": {},
   "outputs": [],
   "source": [
    "df = pd.read_csv('../Datasets/cases/Sonar/Sonar.csv')\n",
    "X = df.drop('Class', axis=1)\n",
    "y = df['Class']\n",
    "le = LabelEncoder()\n",
    "y = le.fit_transform(y)\n",
    "X_train, X_test, y_train, y_test = train_test_split(X, y, test_size=0.3, random_state=25, stratify=y)"
   ]
  },
  {
   "cell_type": "markdown",
   "id": "84ad1994",
   "metadata": {},
   "source": [
    "On training data: <br>\n",
    "DecisionTreeClassifier.fit() <br>\n",
    "KNeighborsClassifier.fit() <br>\n",
    "GaussianNB.fit() <br>\n",
    "\n",
    "but we will not fit 3 times, we will use VotingClassifier and pass the above 3 as estimators (it's like  a pipeline)\n"
   ]
  },
  {
   "cell_type": "code",
   "execution_count": 4,
   "id": "c877fa2d",
   "metadata": {},
   "outputs": [],
   "source": [
    "dtc1 = DecisionTreeClassifier(random_state=25, max_depth=10)\n",
    "dtc2 = DecisionTreeClassifier(random_state=250)\n",
    "knn = KNeighborsClassifier()\n",
    "nb = GaussianNB()\n",
    "voting = VotingClassifier(estimators=[\n",
    "    ('Tree1', dtc1),\n",
    "    ('Tree2', dtc2),\n",
    "    ('KNN', knn),\n",
    "    ('GaussianNB', nb)\n",
    "]).set_output(transform='pandas')"
   ]
  },
  {
   "cell_type": "code",
   "execution_count": 5,
   "id": "52c294bc",
   "metadata": {},
   "outputs": [
    {
     "name": "stdout",
     "output_type": "stream",
     "text": [
      "              precision    recall  f1-score   support\n",
      "\n",
      "           0       0.65      0.88      0.75        34\n",
      "           1       0.76      0.45      0.57        29\n",
      "\n",
      "    accuracy                           0.68        63\n",
      "   macro avg       0.71      0.67      0.66        63\n",
      "weighted avg       0.70      0.68      0.66        63\n",
      "\n"
     ]
    }
   ],
   "source": [
    "voting.fit(X_train, y_train)\n",
    "y_pred = voting.predict(X_test)\n",
    "print(classification_report(y_test, y_pred))"
   ]
  },
  {
   "cell_type": "markdown",
   "id": "777f5f65",
   "metadata": {},
   "source": [
    "Evaluating the individual estimators"
   ]
  },
  {
   "cell_type": "code",
   "execution_count": 6,
   "id": "23816cd6",
   "metadata": {},
   "outputs": [
    {
     "data": {
      "text/plain": [
       "array([1, 0, 0, 1, 0, 0, 0, 1, 1, 0, 1, 0, 1, 0, 0, 0, 1, 0, 1, 0, 0, 0,\n",
       "       0, 0, 1, 0, 1, 1, 0, 1, 0, 0, 0, 1, 0, 0, 0, 0, 1, 0, 0, 1, 1, 0,\n",
       "       1, 0, 0, 0, 0, 1, 0, 0, 0, 0, 0, 1, 0, 0, 1, 1, 0, 0, 1])"
      ]
     },
     "execution_count": 6,
     "metadata": {},
     "output_type": "execute_result"
    }
   ],
   "source": [
    "voting.estimators_[0].predict(X_test)"
   ]
  },
  {
   "cell_type": "code",
   "execution_count": 7,
   "id": "8c699262",
   "metadata": {},
   "outputs": [
    {
     "data": {
      "text/html": [
       "<div>\n",
       "<style scoped>\n",
       "    .dataframe tbody tr th:only-of-type {\n",
       "        vertical-align: middle;\n",
       "    }\n",
       "\n",
       "    .dataframe tbody tr th {\n",
       "        vertical-align: top;\n",
       "    }\n",
       "\n",
       "    .dataframe thead th {\n",
       "        text-align: right;\n",
       "    }\n",
       "</style>\n",
       "<table border=\"1\" class=\"dataframe\">\n",
       "  <thead>\n",
       "    <tr style=\"text-align: right;\">\n",
       "      <th></th>\n",
       "      <th>Tree1</th>\n",
       "      <th>Tree2</th>\n",
       "      <th>KNN</th>\n",
       "      <th>GaussianNB</th>\n",
       "      <th>final_output</th>\n",
       "    </tr>\n",
       "  </thead>\n",
       "  <tbody>\n",
       "    <tr>\n",
       "      <th>0</th>\n",
       "      <td>1</td>\n",
       "      <td>1</td>\n",
       "      <td>1</td>\n",
       "      <td>0</td>\n",
       "      <td>1</td>\n",
       "    </tr>\n",
       "    <tr>\n",
       "      <th>1</th>\n",
       "      <td>0</td>\n",
       "      <td>0</td>\n",
       "      <td>0</td>\n",
       "      <td>0</td>\n",
       "      <td>0</td>\n",
       "    </tr>\n",
       "    <tr>\n",
       "      <th>2</th>\n",
       "      <td>0</td>\n",
       "      <td>0</td>\n",
       "      <td>1</td>\n",
       "      <td>1</td>\n",
       "      <td>0</td>\n",
       "    </tr>\n",
       "    <tr>\n",
       "      <th>3</th>\n",
       "      <td>1</td>\n",
       "      <td>1</td>\n",
       "      <td>1</td>\n",
       "      <td>0</td>\n",
       "      <td>1</td>\n",
       "    </tr>\n",
       "    <tr>\n",
       "      <th>4</th>\n",
       "      <td>0</td>\n",
       "      <td>0</td>\n",
       "      <td>1</td>\n",
       "      <td>1</td>\n",
       "      <td>0</td>\n",
       "    </tr>\n",
       "    <tr>\n",
       "      <th>...</th>\n",
       "      <td>...</td>\n",
       "      <td>...</td>\n",
       "      <td>...</td>\n",
       "      <td>...</td>\n",
       "      <td>...</td>\n",
       "    </tr>\n",
       "    <tr>\n",
       "      <th>58</th>\n",
       "      <td>1</td>\n",
       "      <td>1</td>\n",
       "      <td>1</td>\n",
       "      <td>1</td>\n",
       "      <td>1</td>\n",
       "    </tr>\n",
       "    <tr>\n",
       "      <th>59</th>\n",
       "      <td>1</td>\n",
       "      <td>1</td>\n",
       "      <td>1</td>\n",
       "      <td>1</td>\n",
       "      <td>1</td>\n",
       "    </tr>\n",
       "    <tr>\n",
       "      <th>60</th>\n",
       "      <td>0</td>\n",
       "      <td>0</td>\n",
       "      <td>1</td>\n",
       "      <td>0</td>\n",
       "      <td>0</td>\n",
       "    </tr>\n",
       "    <tr>\n",
       "      <th>61</th>\n",
       "      <td>0</td>\n",
       "      <td>0</td>\n",
       "      <td>0</td>\n",
       "      <td>0</td>\n",
       "      <td>0</td>\n",
       "    </tr>\n",
       "    <tr>\n",
       "      <th>62</th>\n",
       "      <td>1</td>\n",
       "      <td>1</td>\n",
       "      <td>1</td>\n",
       "      <td>1</td>\n",
       "      <td>1</td>\n",
       "    </tr>\n",
       "  </tbody>\n",
       "</table>\n",
       "<p>63 rows × 5 columns</p>\n",
       "</div>"
      ],
      "text/plain": [
       "    Tree1  Tree2  KNN  GaussianNB  final_output\n",
       "0       1      1    1           0             1\n",
       "1       0      0    0           0             0\n",
       "2       0      0    1           1             0\n",
       "3       1      1    1           0             1\n",
       "4       0      0    1           1             0\n",
       "..    ...    ...  ...         ...           ...\n",
       "58      1      1    1           1             1\n",
       "59      1      1    1           1             1\n",
       "60      0      0    1           0             0\n",
       "61      0      0    0           0             0\n",
       "62      1      1    1           1             1\n",
       "\n",
       "[63 rows x 5 columns]"
      ]
     },
     "execution_count": 7,
     "metadata": {},
     "output_type": "execute_result"
    }
   ],
   "source": [
    "estimators_df = pd.DataFrame({\n",
    "    'Tree1': voting.estimators_[0].predict(X_test),\n",
    "    'Tree2': voting.estimators_[1].predict(X_test),\n",
    "    'KNN' : voting.estimators_[2].predict(X_test),\n",
    "    'GaussianNB' : voting.estimators_[3].predict(X_test),\n",
    "    'final_output':y_pred\n",
    "})\n",
    "estimators_df"
   ]
  },
  {
   "cell_type": "code",
   "execution_count": 8,
   "id": "17abb4d1",
   "metadata": {},
   "outputs": [
    {
     "name": "stdout",
     "output_type": "stream",
     "text": [
      "Estimator:  DecisionTreeClassifier(max_depth=10, random_state=25)\n",
      "Accuracy Score =  0.6984126984126984\n",
      "Estimator:  DecisionTreeClassifier(random_state=250)\n",
      "Accuracy Score =  0.7142857142857143\n",
      "Estimator:  KNeighborsClassifier()\n",
      "Accuracy Score =  0.746031746031746\n",
      "Estimator:  GaussianNB()\n",
      "Accuracy Score =  0.6349206349206349\n"
     ]
    }
   ],
   "source": [
    "from sklearn.metrics import accuracy_score\n",
    "\n",
    "for i in range(len(voting.estimators_)):\n",
    "    print('Estimator: ', voting.estimators_[i])\n",
    "    print('Accuracy Score = ', accuracy_score(y_test, voting.estimators_[i].predict(X_test)))"
   ]
  },
  {
   "cell_type": "markdown",
   "id": "1d640382",
   "metadata": {},
   "source": [
    "#### What we did above is called (bohot) hard voting - used y_pred directly.\n",
    "\n",
    "#### Now we will do soft voting - used y_pred_proba"
   ]
  },
  {
   "cell_type": "markdown",
   "id": "8862afee",
   "metadata": {},
   "source": [
    "# Soft Voting and weights"
   ]
  },
  {
   "cell_type": "code",
   "execution_count": 9,
   "id": "e2b08423",
   "metadata": {},
   "outputs": [
    {
     "name": "stdout",
     "output_type": "stream",
     "text": [
      "              precision    recall  f1-score   support\n",
      "\n",
      "           0       0.72      0.97      0.82        34\n",
      "           1       0.94      0.55      0.70        29\n",
      "\n",
      "    accuracy                           0.78        63\n",
      "   macro avg       0.83      0.76      0.76        63\n",
      "weighted avg       0.82      0.78      0.77        63\n",
      "\n"
     ]
    }
   ],
   "source": [
    "dt1 = DecisionTreeClassifier(random_state=25)\n",
    "dt2 = DecisionTreeClassifier(random_state=250)\n",
    "knn1 = KNeighborsClassifier(n_neighbors=3)\n",
    "knn2 = KNeighborsClassifier()\n",
    "gnb = GaussianNB()\n",
    "\n",
    "# SOFT VOTING\n",
    "voting = VotingClassifier(estimators=[\n",
    "    ('tree1', dt1),\n",
    "    ('tree2',dt2),\n",
    "    ('knn1', knn1),\n",
    "    ('knn2', knn2),\n",
    "    ('gnb', gnb)\n",
    "], voting='soft', weights=[4,4,9,8,4])\n",
    "\n",
    "voting.fit(X_train, y_train)\n",
    "y_pred = voting.predict(X_test)\n",
    "print(classification_report(y_test, y_pred))"
   ]
  },
  {
   "cell_type": "code",
   "execution_count": 10,
   "id": "85ce2b8f",
   "metadata": {},
   "outputs": [
    {
     "data": {
      "text/html": [
       "<div>\n",
       "<style scoped>\n",
       "    .dataframe tbody tr th:only-of-type {\n",
       "        vertical-align: middle;\n",
       "    }\n",
       "\n",
       "    .dataframe tbody tr th {\n",
       "        vertical-align: top;\n",
       "    }\n",
       "\n",
       "    .dataframe thead th {\n",
       "        text-align: right;\n",
       "    }\n",
       "</style>\n",
       "<table border=\"1\" class=\"dataframe\">\n",
       "  <thead>\n",
       "    <tr style=\"text-align: right;\">\n",
       "      <th></th>\n",
       "      <th>tree1</th>\n",
       "      <th>tree2</th>\n",
       "      <th>knn1</th>\n",
       "      <th>knn2</th>\n",
       "      <th>gnb</th>\n",
       "      <th>Final</th>\n",
       "    </tr>\n",
       "  </thead>\n",
       "  <tbody>\n",
       "    <tr>\n",
       "      <th>0</th>\n",
       "      <td>1</td>\n",
       "      <td>1</td>\n",
       "      <td>1</td>\n",
       "      <td>1</td>\n",
       "      <td>0</td>\n",
       "      <td>1</td>\n",
       "    </tr>\n",
       "    <tr>\n",
       "      <th>1</th>\n",
       "      <td>0</td>\n",
       "      <td>0</td>\n",
       "      <td>0</td>\n",
       "      <td>0</td>\n",
       "      <td>0</td>\n",
       "      <td>0</td>\n",
       "    </tr>\n",
       "    <tr>\n",
       "      <th>2</th>\n",
       "      <td>0</td>\n",
       "      <td>0</td>\n",
       "      <td>1</td>\n",
       "      <td>1</td>\n",
       "      <td>1</td>\n",
       "      <td>1</td>\n",
       "    </tr>\n",
       "    <tr>\n",
       "      <th>3</th>\n",
       "      <td>1</td>\n",
       "      <td>1</td>\n",
       "      <td>1</td>\n",
       "      <td>1</td>\n",
       "      <td>0</td>\n",
       "      <td>1</td>\n",
       "    </tr>\n",
       "    <tr>\n",
       "      <th>4</th>\n",
       "      <td>0</td>\n",
       "      <td>0</td>\n",
       "      <td>0</td>\n",
       "      <td>1</td>\n",
       "      <td>1</td>\n",
       "      <td>0</td>\n",
       "    </tr>\n",
       "    <tr>\n",
       "      <th>...</th>\n",
       "      <td>...</td>\n",
       "      <td>...</td>\n",
       "      <td>...</td>\n",
       "      <td>...</td>\n",
       "      <td>...</td>\n",
       "      <td>...</td>\n",
       "    </tr>\n",
       "    <tr>\n",
       "      <th>58</th>\n",
       "      <td>1</td>\n",
       "      <td>1</td>\n",
       "      <td>1</td>\n",
       "      <td>1</td>\n",
       "      <td>1</td>\n",
       "      <td>1</td>\n",
       "    </tr>\n",
       "    <tr>\n",
       "      <th>59</th>\n",
       "      <td>1</td>\n",
       "      <td>1</td>\n",
       "      <td>1</td>\n",
       "      <td>1</td>\n",
       "      <td>1</td>\n",
       "      <td>1</td>\n",
       "    </tr>\n",
       "    <tr>\n",
       "      <th>60</th>\n",
       "      <td>0</td>\n",
       "      <td>0</td>\n",
       "      <td>1</td>\n",
       "      <td>1</td>\n",
       "      <td>0</td>\n",
       "      <td>0</td>\n",
       "    </tr>\n",
       "    <tr>\n",
       "      <th>61</th>\n",
       "      <td>0</td>\n",
       "      <td>0</td>\n",
       "      <td>1</td>\n",
       "      <td>0</td>\n",
       "      <td>0</td>\n",
       "      <td>0</td>\n",
       "    </tr>\n",
       "    <tr>\n",
       "      <th>62</th>\n",
       "      <td>1</td>\n",
       "      <td>1</td>\n",
       "      <td>1</td>\n",
       "      <td>1</td>\n",
       "      <td>1</td>\n",
       "      <td>1</td>\n",
       "    </tr>\n",
       "  </tbody>\n",
       "</table>\n",
       "<p>63 rows × 6 columns</p>\n",
       "</div>"
      ],
      "text/plain": [
       "    tree1  tree2  knn1  knn2  gnb  Final\n",
       "0       1      1     1     1    0      1\n",
       "1       0      0     0     0    0      0\n",
       "2       0      0     1     1    1      1\n",
       "3       1      1     1     1    0      1\n",
       "4       0      0     0     1    1      0\n",
       "..    ...    ...   ...   ...  ...    ...\n",
       "58      1      1     1     1    1      1\n",
       "59      1      1     1     1    1      1\n",
       "60      0      0     1     1    0      0\n",
       "61      0      0     1     0    0      0\n",
       "62      1      1     1     1    1      1\n",
       "\n",
       "[63 rows x 6 columns]"
      ]
     },
     "execution_count": 10,
     "metadata": {},
     "output_type": "execute_result"
    }
   ],
   "source": [
    "voting_df = pd.DataFrame({\n",
    "    'tree1': voting.estimators_[0].predict(X_test),\n",
    "    'tree2': voting.estimators_[1].predict(X_test),\n",
    "    'knn1': voting.estimators_[2].predict(X_test),\n",
    "    'knn2': voting.estimators_[3].predict(X_test),\n",
    "    'gnb': voting.estimators_[4].predict(X_test),\n",
    "    \"Final\": voting.predict(X_test)\n",
    "})\n",
    "\n",
    "voting_df"
   ]
  },
  {
   "cell_type": "code",
   "execution_count": 11,
   "id": "36e259cb",
   "metadata": {},
   "outputs": [
    {
     "name": "stdout",
     "output_type": "stream",
     "text": [
      "Estimator:  DecisionTreeClassifier(random_state=25)\n",
      "Accuracy Score =  0.6984126984126984\n",
      "Estimator:  DecisionTreeClassifier(random_state=250)\n",
      "Accuracy Score =  0.7142857142857143\n",
      "Estimator:  KNeighborsClassifier(n_neighbors=3)\n",
      "Accuracy Score =  0.8095238095238095\n",
      "Estimator:  KNeighborsClassifier()\n"
     ]
    },
    {
     "name": "stdout",
     "output_type": "stream",
     "text": [
      "Accuracy Score =  0.746031746031746\n",
      "Estimator:  GaussianNB()\n",
      "Accuracy Score =  0.6349206349206349\n"
     ]
    }
   ],
   "source": [
    "\n",
    "for i in range(len(voting.estimators_)):\n",
    "    print('Estimator: ', voting.estimators_[i])\n",
    "    print('Accuracy Score = ', accuracy_score(y_test, voting.estimators_[i].predict(X_test)))"
   ]
  },
  {
   "cell_type": "markdown",
   "id": "b8d44052",
   "metadata": {},
   "source": [
    "### on HR dataset"
   ]
  },
  {
   "cell_type": "code",
   "execution_count": 39,
   "id": "dc31ffdf",
   "metadata": {},
   "outputs": [],
   "source": [
    "df = pd.read_csv('../Datasets/cases/Human_Resources_Analytics/HR_comma_sep.csv')\n",
    "y = df['left']\n",
    "X = df.drop('left', axis=1)\n",
    "\n",
    "X_train, X_test, y_train, y_test = train_test_split(X, y, test_size=0.3, random_state=25, stratify=y)"
   ]
  },
  {
   "cell_type": "markdown",
   "id": "2a6d4164",
   "metadata": {},
   "source": [
    "# encoding on categorical and scaling on numerical"
   ]
  },
  {
   "cell_type": "code",
   "execution_count": 53,
   "id": "f6253f43",
   "metadata": {},
   "outputs": [],
   "source": [
    "from sklearn.preprocessing import StandardScaler\n",
    "from sklearn.pipeline import Pipeline\n",
    "\n",
    "trf_scaling = make_column_transformer((StandardScaler(), make_column_selector(dtype_exclude=object)), \n",
    "                                  remainder='passthrough', verbose_feature_names_out=False).set_output(transform='pandas')\n",
    "\n",
    "trf_encoding = make_column_transformer((OneHotEncoder(sparse_output=False, drop='first'), make_column_selector(dtype_include=object)), \n",
    "                                       remainder='passthrough', verbose_feature_names_out=False).set_output(transform='pandas')\n",
    "\n",
    "\n",
    "dt1 = DecisionTreeClassifier(random_state=25)\n",
    "dt2 = DecisionTreeClassifier(random_state=250)\n",
    "knn1 = KNeighborsClassifier(n_neighbors=3)\n",
    "knn2 = KNeighborsClassifier(n_neighbors=8)\n",
    "gnb = GaussianNB()\n",
    "\n",
    "voting = VotingClassifier(estimators=[\n",
    "    ('Tree1', dt1),\n",
    "    ('Tree2', dt2),\n",
    "    ('KNN1', knn1),\n",
    "    ('KNN2', knn2),\n",
    "    ('GaussianNB', gnb)\n",
    "])\n",
    "\n",
    "pipe = Pipeline(steps=[\n",
    "    ('scaling', trf_scaling),\n",
    "    ('encoding', trf_encoding),\n",
    "    ('model_ensembling', voting)\n",
    "])\n"
   ]
  },
  {
   "cell_type": "code",
   "execution_count": 54,
   "id": "cf3e2bc0",
   "metadata": {},
   "outputs": [
    {
     "name": "stdout",
     "output_type": "stream",
     "text": [
      "              precision    recall  f1-score   support\n",
      "\n",
      "           0       0.99      0.97      0.98      3429\n",
      "           1       0.92      0.96      0.94      1070\n",
      "\n",
      "    accuracy                           0.97      4499\n",
      "   macro avg       0.95      0.97      0.96      4499\n",
      "weighted avg       0.97      0.97      0.97      4499\n",
      "\n"
     ]
    }
   ],
   "source": [
    "pipe.fit(X_train, y_train)\n",
    "y_pred = pipe.predict(X_test)\n",
    "print(classification_report(y_test, y_pred))"
   ]
  },
  {
   "cell_type": "markdown",
   "id": "e998b603",
   "metadata": {},
   "source": [
    "#### evaluating individual model"
   ]
  },
  {
   "cell_type": "code",
   "execution_count": 55,
   "id": "87265e1f",
   "metadata": {},
   "outputs": [
    {
     "name": "stdout",
     "output_type": "stream",
     "text": [
      "Estimator:  DecisionTreeClassifier(random_state=25)\n",
      "Accuracy Score =  0.5672371638141809\n",
      "Estimator:  DecisionTreeClassifier(random_state=250)\n",
      "Accuracy Score =  0.6450322293843076\n",
      "Estimator:  KNeighborsClassifier(n_neighbors=3)\n",
      "Accuracy Score =  0.23783062902867305\n",
      "Estimator:  KNeighborsClassifier(n_neighbors=8)\n",
      "Accuracy Score =  0.23783062902867305\n",
      "Estimator:  GaussianNB()\n",
      "Accuracy Score =  0.23783062902867305\n"
     ]
    }
   ],
   "source": [
    "trf_encoding.fit(X_train)\n",
    "X_test_trf = trf_encoding.transform(X_test)\n",
    "\n",
    "for i in range(len(voting.estimators_)):\n",
    "    print('Estimator: ', voting.estimators_[i])\n",
    "    print('Accuracy Score = ', accuracy_score(y_test, voting.estimators_[i].predict(X_test_trf)))"
   ]
  },
  {
   "cell_type": "markdown",
   "id": "efc93b39",
   "metadata": {},
   "source": [
    "# SOft and WEights"
   ]
  },
  {
   "cell_type": "code",
   "execution_count": 43,
   "id": "352e192e",
   "metadata": {},
   "outputs": [],
   "source": [
    "from sklearn.preprocessing import OneHotEncoder, StandardScaler\n",
    "from sklearn.compose import make_column_selector, make_column_transformer"
   ]
  },
  {
   "cell_type": "code",
   "execution_count": null,
   "id": "6b014d95",
   "metadata": {},
   "outputs": [
    {
     "name": "stdout",
     "output_type": "stream",
     "text": [
      "              precision    recall  f1-score   support\n",
      "\n",
      "           0       0.68      0.88      0.77        34\n",
      "           1       0.79      0.52      0.62        29\n",
      "\n",
      "    accuracy                           0.71        63\n",
      "   macro avg       0.74      0.70      0.70        63\n",
      "weighted avg       0.73      0.71      0.70        63\n",
      "\n",
      "10.2981866826049\n"
     ]
    }
   ],
   "source": [
    "std_trf = make_column_transformer((StandardScaler(), make_column_selector(dtype_exclude=object)), \n",
    "                                  remainder='passthrough', \n",
    "                                  verbose_feature_names_out=False).set_output(transform='pandas')\n",
    "\n",
    "enc_trf = make_column_transformer((OneHotEncoder(sparse_output=False, drop='first'), \n",
    "                                   make_column_selector(dtype_include=object)), \n",
    "                                   remainder='passthrough',\n",
    "                                   verbose_feature_names_out=False).set_output(transform='pandas')\n",
    "\n",
    "dt1 = DecisionTreeClassifier(random_state=25)\n",
    "dt2 = DecisionTreeClassifier(random_state=25, max_depth=3)\n",
    "knn1 = KNeighborsClassifier(n_neighbors=3)\n",
    "knn2 = KNeighborsClassifier(n_neighbors=5)\n",
    "gnb = GaussianNB()\n",
    "\n",
    "voting = VotingClassifier([\n",
    "    ('t1', dt1),\n",
    "    ('t2', dt2),\n",
    "    ('knn1', knn1),\n",
    "    ('knn2', knn2),\n",
    "    ('gnb', gnb)\n",
    "], \n",
    "weights=[9,9,9,9,7],\n",
    "voting='soft'\n",
    ")\n",
    "\n",
    "pipe = Pipeline([\n",
    "#    ('Scaling', None),\n",
    "    ('Encode', enc_trf),\n",
    "    ('Ensemble voting', voting)\n",
    "])\n",
    "\n",
    "pipe.fit(X_train, y_train)\n",
    "y_pred = pipe.predict(X_test)\n",
    "\n",
    "print(classification_report(y_test, y_pred))\n",
    "print(log_loss(y_test, y_pred))\n"
   ]
  },
  {
   "cell_type": "code",
   "execution_count": 35,
   "id": "dd49e66f",
   "metadata": {},
   "outputs": [
    {
     "name": "stdout",
     "output_type": "stream",
     "text": [
      "              precision    recall  f1-score   support\n",
      "\n",
      "           0       0.68      0.88      0.77        34\n",
      "           1       0.79      0.52      0.62        29\n",
      "\n",
      "    accuracy                           0.71        63\n",
      "   macro avg       0.74      0.70      0.70        63\n",
      "weighted avg       0.73      0.71      0.70        63\n",
      "\n",
      "10.2981866826049\n"
     ]
    }
   ],
   "source": [
    "std_trf = make_column_transformer((StandardScaler(), make_column_selector(dtype_exclude=object)), \n",
    "                                  remainder='passthrough', \n",
    "                                  verbose_feature_names_out=False).set_output(transform='pandas')\n",
    "\n",
    "enc_trf = make_column_transformer((OneHotEncoder(sparse_output=False, drop='first'), \n",
    "                                   make_column_selector(dtype_include=object)), \n",
    "                                   remainder='passthrough',\n",
    "                                   verbose_feature_names_out=False).set_output(transform='pandas')\n",
    "\n",
    "dt1 = DecisionTreeClassifier(random_state=25)\n",
    "dt2 = DecisionTreeClassifier(random_state=25, max_depth=3)\n",
    "knn1 = KNeighborsClassifier(n_neighbors=3)\n",
    "knn2 = KNeighborsClassifier(n_neighbors=5)\n",
    "gnb = GaussianNB()\n",
    "\n",
    "voting = VotingClassifier([\n",
    "    ('t1', dt1),\n",
    "    ('t2', dt2),\n",
    "    ('knn1', knn1),\n",
    "    ('knn2', knn2),\n",
    "    ('gnb', gnb)\n",
    "], \n",
    "weights=[9,9,9,9,7],\n",
    "voting='soft'\n",
    ")\n",
    "\n",
    "# pipe = Pipeline([\n",
    "#     ('Scaling', std_trf),\n",
    "#     ('Encode', enc_trf),\n",
    "#     ('Ensemble voting', voting)\n",
    "# ])\n",
    "\n",
    "# pipe.fit(X_train, y_train)\n",
    "# y_pred = pipe.predict(X_test)\n",
    "voting.fit(X_train, y_train)\n",
    "y_pred = voting.predict(X_test)\n",
    "\n",
    "print(classification_report(y_test, y_pred))\n",
    "print(log_loss(y_test, y_pred))\n"
   ]
  },
  {
   "cell_type": "code",
   "execution_count": null,
   "id": "2e8552b4",
   "metadata": {},
   "outputs": [],
   "source": []
  }
 ],
 "metadata": {
  "kernelspec": {
   "display_name": "base",
   "language": "python",
   "name": "python3"
  },
  "language_info": {
   "codemirror_mode": {
    "name": "ipython",
    "version": 3
   },
   "file_extension": ".py",
   "mimetype": "text/x-python",
   "name": "python",
   "nbconvert_exporter": "python",
   "pygments_lexer": "ipython3",
   "version": "3.13.5"
  }
 },
 "nbformat": 4,
 "nbformat_minor": 5
}
