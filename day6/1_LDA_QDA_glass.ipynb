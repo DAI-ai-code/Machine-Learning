{
 "cells": [
  {
   "cell_type": "code",
   "execution_count": 3,
   "id": "69894301",
   "metadata": {},
   "outputs": [],
   "source": [
    "import pandas as pd\n",
    "import numpy\n",
    "from sklearn.discriminant_analysis import LinearDiscriminantAnalysis, QuadraticDiscriminantAnalysis\n",
    "from sklearn.model_selection import train_test_split\n",
    "from sklearn.metrics import classification_report"
   ]
  },
  {
   "cell_type": "code",
   "execution_count": 5,
   "id": "eb86222f",
   "metadata": {},
   "outputs": [],
   "source": [
    "glass = pd.read_csv('../Datasets/cases/Glass_Identification/Glass.csv')\n",
    "X = glass.drop('Type', axis=1)\n",
    "y = glass['Type']\n",
    "\n",
    "X_train, X_test,y_train,y_test = train_test_split(X,y,test_size=0.3, random_state=25, stratify=y)"
   ]
  },
  {
   "cell_type": "markdown",
   "id": "537b5650",
   "metadata": {},
   "source": [
    "We do not need to scale for discriminant analysis."
   ]
  },
  {
   "cell_type": "markdown",
   "id": "c91868ac",
   "metadata": {},
   "source": [
    "LINEAR DISCRIMINANT ANALYSIS:"
   ]
  },
  {
   "cell_type": "code",
   "execution_count": 7,
   "id": "3f6e472b",
   "metadata": {},
   "outputs": [
    {
     "name": "stdout",
     "output_type": "stream",
     "text": [
      "                                      precision    recall  f1-score   support\n",
      "\n",
      "    building_windows_float_processed       0.55      0.76      0.64        21\n",
      "building_windows_non_float_processed       0.65      0.57      0.60        23\n",
      "                          containers       0.50      0.50      0.50         4\n",
      "                           headlamps       1.00      0.67      0.80         9\n",
      "                           tableware       0.75      1.00      0.86         3\n",
      "     vehicle_windows_float_processed       0.50      0.20      0.29         5\n",
      "\n",
      "                            accuracy                           0.63        65\n",
      "                           macro avg       0.66      0.62      0.61        65\n",
      "                        weighted avg       0.65      0.63      0.62        65\n",
      "\n"
     ]
    }
   ],
   "source": [
    "lda = LinearDiscriminantAnalysis()\n",
    "lda.fit(X_train,y_train)\n",
    "y_pred = lda.predict(X_test)\n",
    "print(classification_report(y_test, y_pred))"
   ]
  },
  {
   "cell_type": "markdown",
   "id": "531ebf6b",
   "metadata": {},
   "source": [
    "QUADARATIC DISCRIMINANT ANALYSIS"
   ]
  },
  {
   "cell_type": "code",
   "execution_count": 8,
   "id": "2e8d5a11",
   "metadata": {},
   "outputs": [
    {
     "name": "stdout",
     "output_type": "stream",
     "text": [
      "                                      precision    recall  f1-score   support\n",
      "\n",
      "    building_windows_float_processed       0.47      0.76      0.58        21\n",
      "building_windows_non_float_processed       0.44      0.35      0.39        23\n",
      "                          containers       0.00      0.00      0.00         4\n",
      "                           headlamps       0.62      0.89      0.73         9\n",
      "                           tableware       0.00      0.00      0.00         3\n",
      "     vehicle_windows_float_processed       0.00      0.00      0.00         5\n",
      "\n",
      "                            accuracy                           0.49        65\n",
      "                           macro avg       0.26      0.33      0.28        65\n",
      "                        weighted avg       0.39      0.49      0.43        65\n",
      "\n"
     ]
    },
    {
     "name": "stderr",
     "output_type": "stream",
     "text": [
      "c:\\Users\\dai\\AppData\\Local\\anaconda3\\Lib\\site-packages\\sklearn\\discriminant_analysis.py:1024: LinAlgWarning: The covariance matrix of class 0 is not full rank. Increasing the value of parameter `reg_param` might help reducing the collinearity.\n",
      "  warnings.warn(\n",
      "c:\\Users\\dai\\AppData\\Local\\anaconda3\\Lib\\site-packages\\sklearn\\discriminant_analysis.py:1024: LinAlgWarning: The covariance matrix of class 1 is not full rank. Increasing the value of parameter `reg_param` might help reducing the collinearity.\n",
      "  warnings.warn(\n",
      "c:\\Users\\dai\\AppData\\Local\\anaconda3\\Lib\\site-packages\\sklearn\\discriminant_analysis.py:1024: LinAlgWarning: The covariance matrix of class 2 is not full rank. Increasing the value of parameter `reg_param` might help reducing the collinearity.\n",
      "  warnings.warn(\n",
      "c:\\Users\\dai\\AppData\\Local\\anaconda3\\Lib\\site-packages\\sklearn\\discriminant_analysis.py:1024: LinAlgWarning: The covariance matrix of class 3 is not full rank. Increasing the value of parameter `reg_param` might help reducing the collinearity.\n",
      "  warnings.warn(\n",
      "c:\\Users\\dai\\AppData\\Local\\anaconda3\\Lib\\site-packages\\sklearn\\discriminant_analysis.py:1024: LinAlgWarning: The covariance matrix of class 4 is not full rank. Increasing the value of parameter `reg_param` might help reducing the collinearity.\n",
      "  warnings.warn(\n",
      "c:\\Users\\dai\\AppData\\Local\\anaconda3\\Lib\\site-packages\\sklearn\\discriminant_analysis.py:1024: LinAlgWarning: The covariance matrix of class 5 is not full rank. Increasing the value of parameter `reg_param` might help reducing the collinearity.\n",
      "  warnings.warn(\n",
      "c:\\Users\\dai\\AppData\\Local\\anaconda3\\Lib\\site-packages\\sklearn\\metrics\\_classification.py:1731: UndefinedMetricWarning: Precision is ill-defined and being set to 0.0 in labels with no predicted samples. Use `zero_division` parameter to control this behavior.\n",
      "  _warn_prf(average, modifier, f\"{metric.capitalize()} is\", result.shape[0])\n",
      "c:\\Users\\dai\\AppData\\Local\\anaconda3\\Lib\\site-packages\\sklearn\\metrics\\_classification.py:1731: UndefinedMetricWarning: Precision is ill-defined and being set to 0.0 in labels with no predicted samples. Use `zero_division` parameter to control this behavior.\n",
      "  _warn_prf(average, modifier, f\"{metric.capitalize()} is\", result.shape[0])\n",
      "c:\\Users\\dai\\AppData\\Local\\anaconda3\\Lib\\site-packages\\sklearn\\metrics\\_classification.py:1731: UndefinedMetricWarning: Precision is ill-defined and being set to 0.0 in labels with no predicted samples. Use `zero_division` parameter to control this behavior.\n",
      "  _warn_prf(average, modifier, f\"{metric.capitalize()} is\", result.shape[0])\n"
     ]
    }
   ],
   "source": [
    "lda = QuadraticDiscriminantAnalysis()\n",
    "lda.fit(X_train,y_train)\n",
    "y_pred = lda.predict(X_test)\n",
    "print(classification_report(y_test, y_pred))"
   ]
  },
  {
   "cell_type": "code",
   "execution_count": null,
   "id": "807d06dc",
   "metadata": {},
   "outputs": [],
   "source": []
  }
 ],
 "metadata": {
  "kernelspec": {
   "display_name": "base",
   "language": "python",
   "name": "python3"
  },
  "language_info": {
   "codemirror_mode": {
    "name": "ipython",
    "version": 3
   },
   "file_extension": ".py",
   "mimetype": "text/x-python",
   "name": "python",
   "nbconvert_exporter": "python",
   "pygments_lexer": "ipython3",
   "version": "3.13.5"
  }
 },
 "nbformat": 4,
 "nbformat_minor": 5
}
