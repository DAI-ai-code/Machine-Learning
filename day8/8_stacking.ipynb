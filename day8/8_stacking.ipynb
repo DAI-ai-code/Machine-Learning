{
 "cells": [
  {
   "cell_type": "code",
   "execution_count": 6,
   "id": "ebf4464a",
   "metadata": {},
   "outputs": [],
   "source": [
    "import numpy as np\n",
    "import pandas as pd\n",
    "from sklearn.tree import DecisionTreeClassifier\n",
    "from sklearn.naive_bayes import GaussianNB\n",
    "from sklearn.linear_model import LogisticRegression\n",
    "from sklearn.neighbors import KNeighborsClassifier\n",
    "from sklearn.preprocessing import OneHotEncoder, LabelEncoder\n",
    "from sklearn.compose import make_column_selector, make_column_transformer\n",
    "from sklearn.metrics import accuracy_score, log_loss\n",
    "from sklearn.model_selection import train_test_split\n",
    "from tqdm import tqdm\n",
    "from xgboost import XGBRegressor\n",
    "from sklearn.ensemble import StackingClassifier, GradientBoostingClassifier\n"
   ]
  },
  {
   "cell_type": "code",
   "execution_count": 3,
   "id": "2ed584f5",
   "metadata": {},
   "outputs": [],
   "source": [
    "df = pd.read_csv('../Datasets/cases/Sonar/Sonar.csv')\n",
    "X = df.drop('Class', axis=1)\n",
    "y = df['Class']\n",
    "le = LabelEncoder()\n",
    "y = le.fit_transform(y)\n",
    "\n",
    "X_train, X_test, y_train, y_test = train_test_split(X, y, test_size=0.3, random_state=25, stratify=y)\n",
    "\n",
    "rates = np.linspace(0.01, 0.8, 20)\n",
    "n_est = np.arange(50, 200, 30)\n",
    "depths = [None, 2, 3, 4, 5, 7]\n",
    "scores = []"
   ]
  },
  {
   "cell_type": "code",
   "execution_count": 7,
   "id": "3169e4f4",
   "metadata": {},
   "outputs": [],
   "source": [
    "dtc = DecisionTreeClassifier(random_state=23)\n",
    "knn = KNeighborsClassifier()\n",
    "gnb = GaussianNB()\n",
    "gbm = GradientBoostingClassifier(random_state=23)\n",
    "\n",
    "stack = StackingClassifier([\n",
    "    ('Tree', dtc),\n",
    "    ('knn', knn),\n",
    "    ('GaussianNB', gnb)\n",
    "], final_estimator=gbm)\n",
    "\n",
    "stack.fit(X_train, y_train)\n",
    "y_pred_prob = stack.predict_proba(X_test)\n",
    "y_pred = stack.predict(X_test)\n"
   ]
  },
  {
   "cell_type": "code",
   "execution_count": 10,
   "id": "2df06a35",
   "metadata": {},
   "outputs": [
    {
     "name": "stdout",
     "output_type": "stream",
     "text": [
      "log_loss  0.7317819085619308\n",
      "accuracy  0.6984126984126984\n"
     ]
    }
   ],
   "source": [
    "print('log_loss ', log_loss(y_test, y_pred_prob))\n",
    "print('accuracy ', accuracy_score(y_test, y_pred))"
   ]
  },
  {
   "cell_type": "markdown",
   "id": "5cca2245",
   "metadata": {},
   "source": [
    "with passthrough"
   ]
  },
  {
   "cell_type": "code",
   "execution_count": 11,
   "id": "309c0ba9",
   "metadata": {},
   "outputs": [],
   "source": [
    "dtc = DecisionTreeClassifier(random_state=23)\n",
    "knn = KNeighborsClassifier()\n",
    "gnb = GaussianNB()\n",
    "gbm = GradientBoostingClassifier(random_state=23)\n",
    "\n",
    "\n",
    "stack = StackingClassifier([\n",
    "    ('dtc', dtc),\n",
    "    ('knn', knn),\n",
    "    ('gnb', gnb)\n",
    "], final_estimator=gbm,\n",
    "passthrough=True)\n",
    "\n",
    "stack.fit(X_train, y_train)\n",
    "y_pred_prob = stack.predict_proba(X_test)\n",
    "y_pred = stack.predict(X_test)\n"
   ]
  },
  {
   "cell_type": "code",
   "execution_count": 12,
   "id": "9136a370",
   "metadata": {},
   "outputs": [
    {
     "name": "stdout",
     "output_type": "stream",
     "text": [
      "log_loss  0.48318321958961497\n",
      "accuracy  0.7777777777777778\n"
     ]
    }
   ],
   "source": [
    "print('log_loss ', log_loss(y_test, y_pred_prob))\n",
    "print('accuracy ', accuracy_score(y_test, y_pred))"
   ]
  },
  {
   "cell_type": "code",
   "execution_count": null,
   "id": "2f6b933c",
   "metadata": {},
   "outputs": [],
   "source": []
  }
 ],
 "metadata": {
  "kernelspec": {
   "display_name": "base",
   "language": "python",
   "name": "python3"
  },
  "language_info": {
   "codemirror_mode": {
    "name": "ipython",
    "version": 3
   },
   "file_extension": ".py",
   "mimetype": "text/x-python",
   "name": "python",
   "nbconvert_exporter": "python",
   "pygments_lexer": "ipython3",
   "version": "3.13.5"
  }
 },
 "nbformat": 4,
 "nbformat_minor": 5
}
